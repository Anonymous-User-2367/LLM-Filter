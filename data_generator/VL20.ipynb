{
 "cells": [
  {
   "cell_type": "code",
   "execution_count": 1,
   "metadata": {},
   "outputs": [],
   "source": [
    "from time import time\n",
    "import jax\n",
    "import numpy as np\n",
    "import pandas as pd\n",
    "import seaborn as sns\n",
    "import jax.numpy as jnp\n",
    "import matplotlib.pyplot as plt\n",
    "from functools import partial\n",
    "from datetime import datetime, timedelta\n",
    "import ensemble_kalman_filter as enkf\n",
    "import os\n",
    "%load_ext autoreload\n",
    "%autoreload 2\n",
    "%config InlineBackend.figure_format = \"retina\"\n",
    "plt.style.use(\"default\")\n",
    "plt.rcParams[\"font.size\"] = 18"
   ]
  },
  {
   "cell_type": "code",
   "execution_count": 2,
   "metadata": {},
   "outputs": [],
   "source": [
    "model_name = 'VL20'\n",
    "save_flag = True\n",
    "save_dir ='../dataset/'+ model_name +'/'\n",
    "if not os.path.exists(save_dir):\n",
    "    os.makedirs(save_dir)"
   ]
  },
  {
   "cell_type": "code",
   "execution_count": 3,
   "metadata": {},
   "outputs": [],
   "source": [
    "def rk4_step(y, i, dt, f):\n",
    "    h = dt\n",
    "    t = dt * i\n",
    "    k1 = h * f(y, t)\n",
    "    k2 = h * f(y + k1 / 2, dt * i + h / 2)\n",
    "    k3 = h * f(y + k2 / 2, t + h / 2)\n",
    "    k4 = h * f(y + k3, t + h)\n",
    "\n",
    "    y_next = y + 1 / 6 * (k1 + 2 * k2 + 2 * k3 + k4)\n",
    "    return y_next\n",
    "\n",
    "    \n",
    "\n",
    "@partial(jax.jit, static_argnames=(\"f\",))\n",
    "def rk4(ys, dt, N, f):\n",
    "    \"\"\"\n",
    "    Based on\n",
    "    https://colab.research.google.com\n",
    "    github/google/jax/blob/master/cloud_tpu_colabs/Lorentz_ODE_Solver\n",
    "    \"\"\"\n",
    "    @jax.jit\n",
    "    def step(i, ys):\n",
    "        ysi = rk4_step(ys[i - 1], i, dt, f)\n",
    "        return ys.at[i].set(ysi)\n",
    "    return jax.lax.fori_loop(1, N, step, ys)"
   ]
  },
  {
   "cell_type": "code",
   "execution_count": 4,
   "metadata": {},
   "outputs": [
    {
     "name": "stderr",
     "output_type": "stream",
     "text": [
      "An NVIDIA GPU may be present on this machine, but a CUDA-enabled jaxlib is not installed. Falling back to cpu.\n"
     ]
    },
    {
     "name": "stdout",
     "output_type": "stream",
     "text": [
      "(20000, 72)\n",
      "(20000, 72)\n"
     ]
    }
   ],
   "source": [
    "F = 10\n",
    "G = 0\n",
    "alpha = 1\n",
    "gamma = 1\n",
    "N = 20000\n",
    "dt = 0.01\n",
    "nX = 36\n",
    "dim_state = 2 * nX\n",
    "dim_obs = dim_state\n",
    "model_name = 'VL20'\n",
    "key = jax.random.PRNGKey(31415)\n",
    "key_init, key_sim, key_eval, key_obs = jax.random.split(key, 4)\n",
    "key_state, key_measurement = jax.random.split(key_sim)\n",
    "\n",
    "def shift(x, n):\n",
    "    return jnp.roll(x, -n, axis=-1)\n",
    "\n",
    "def fcoord(x, t):\n",
    "    X = x[:nX]\n",
    "    theta = x[nX:]\n",
    "    d = jnp.zeros_like(x)\n",
    "    d.at[:nX].set((shift(X, 1)-shift(X, -2))*shift(X, -1))\n",
    "    d.at[:nX].set(d[:nX] - gamma*shift(X, 0)) \n",
    "    d.at[:nX].set(d[:nX] - alpha*shift(theta, 0) + F)\n",
    "    d.at[nX:].set(shift(X, 1)*shift(theta, 2) \\\n",
    "        - shift(X, -1)*shift(theta, -2))\n",
    "    d.at[nX:].set(d[nX:] - gamma*shift(theta, 0))\n",
    "    d.at[nX:].set(d[nX:] + alpha*shift(X, 0) + G) \n",
    "    return d\n",
    "\n",
    "def f(x, t, D, *args):\n",
    "    keyt = jax.random.fold_in(key_state, t)\n",
    "    err = jax.random.normal(keyt, shape=(D,))\n",
    "    xdot = fcoord(x, t) + F + err\n",
    "    return xdot\n",
    "\n",
    "x0 = jax.random.normal(key_init, (dim_state,)) + F\n",
    "xs = jnp.zeros((N,) + x0.shape)\n",
    "xs = xs.at[0].set(x0)\n",
    "fpart = partial(f, D=dim_state)\n",
    "xs = rk4(xs, dt, N, fpart)\n",
    "ys = xs + jax.random.normal(key_measurement, xs.shape)\n",
    "# hpart = partial(h, D=dim_state)\n",
    "# ys = h_step(xs, dt, N, hpart)\n",
    "\n",
    "print(xs.shape)\n",
    "print(ys.shape)"
   ]
  },
  {
   "cell_type": "code",
   "execution_count": 5,
   "metadata": {},
   "outputs": [],
   "source": [
    "corrupted = True\n",
    "ys_corrupted = ys.copy()\n",
    "sigma = 5\n",
    "value_corrupted = ys = xs + sigma * jax.random.normal(key_measurement, xs.shape)\n",
    "if corrupted:\n",
    "    p_err = 0.01\n",
    "    errs_map = jax.random.bernoulli(key_init, p=p_err, shape=ys_corrupted.shape)\n",
    "    ys_corrupted = ys_corrupted * (~errs_map) + value_corrupted * errs_map\n",
    "    err_where = np.where(errs_map)\n",
    "# print(ys_corrupted.shape)\n",
    "# print(ys_corrupted[0, 0:3])\n",
    "# print(errs_map)"
   ]
  },
  {
   "cell_type": "code",
   "execution_count": 6,
   "metadata": {},
   "outputs": [],
   "source": [
    "# 生成时间序列\n",
    "D = dim_state\n",
    "start_time = datetime(2024, 6, 14, 13, 0, 0)\n",
    "time_interval = timedelta(seconds=1)\n",
    "time_series = [start_time + i * time_interval for i in range(xs.shape[0])]\n",
    "\n",
    "# 创建 DataFrame\n",
    "column_names = [f'x_{i}' for i in range(1, xs.shape[1] + 1)]\n",
    "df = pd.DataFrame(xs, columns=column_names)\n",
    "df.insert(0, 'date', time_series)\n",
    "\n",
    "# print(df.head())"
   ]
  },
  {
   "cell_type": "code",
   "execution_count": 7,
   "metadata": {},
   "outputs": [
    {
     "name": "stdout",
     "output_type": "stream",
     "text": [
      "                 date        y_1        y_2        y_3        y_4        y_5  \\\n",
      "0 2024-06-14 13:00:00  13.531202  12.347681  14.767914   0.894815   1.283921   \n",
      "1 2024-06-14 13:00:01  17.423916  13.602861  11.208827  15.064735  13.979038   \n",
      "2 2024-06-14 13:00:02   5.704052  11.692755  12.551895  15.514514   3.720289   \n",
      "3 2024-06-14 13:00:03   4.390932   2.249312   8.807728   8.446161  17.210573   \n",
      "4 2024-06-14 13:00:04  15.862354  26.063387   7.261002   9.383172   6.261335   \n",
      "\n",
      "         y_6        y_7        y_8        y_9  ...       y_63       y_64  \\\n",
      "0   8.614499  11.102380   9.019107   9.132580  ...   7.562762   6.653304   \n",
      "1  16.530704  11.876959   3.987224  12.963837  ...   2.782481   7.516932   \n",
      "2  16.369982   9.797428  10.435306  12.086037  ...   7.882241   9.108672   \n",
      "3   4.871646  12.198980  11.974627  10.558963  ...  11.322978  16.244171   \n",
      "4  12.507937  15.747322   2.190125  14.218163  ...  13.422709  10.404652   \n",
      "\n",
      "        y_65       y_66       y_67       y_68       y_69       y_70  \\\n",
      "0  11.196854  16.170874   3.515263  10.428568  19.159821   4.445343   \n",
      "1   4.756130   4.024725  13.648418  11.681147  12.784935   0.608533   \n",
      "2   7.251122   6.132199   5.384391  16.451202  12.648899  10.154716   \n",
      "3  10.084550   5.493343   8.855571   6.758127   7.261724  11.124059   \n",
      "4   9.991085  17.054220   5.254653   6.646222   9.404194  -1.244835   \n",
      "\n",
      "        y_71       y_72  \n",
      "0  15.997083   7.148948  \n",
      "1   4.692508   7.749390  \n",
      "2  -0.755440  13.146135  \n",
      "3   6.817682  11.192465  \n",
      "4  10.931339   7.005112  \n",
      "\n",
      "[5 rows x 73 columns]\n",
      "                 date        y_1        y_2        y_3        y_4        y_5  \\\n",
      "0 2024-06-14 13:00:00  10.325955  10.680943  10.593391   7.853302   8.288703   \n",
      "1 2024-06-14 13:00:01  11.181432  11.011513   9.952649  10.769766  10.909345   \n",
      "2 2024-06-14 13:00:02   8.914392  10.709025  10.292338  10.942202   8.939213   \n",
      "3 2024-06-14 13:00:03   8.728702   8.899870   9.614580   9.611012  11.718888   \n",
      "4 2024-06-14 13:00:04  11.099919  13.742218   7.261002   9.880893   9.610660   \n",
      "\n",
      "         y_6        y_7       y_8       y_9  ...       y_63       y_64  \\\n",
      "0  11.512458  11.390107  8.387746  8.389533  ...   9.599792   8.524837   \n",
      "1  13.188801  11.628911  7.469780  9.232534  ...   8.729038   8.766799   \n",
      "2  13.249758  11.296893  8.847806  9.133723  ...   9.834293   9.154383   \n",
      "3  11.043192  11.861092  9.244081  8.905058  ...  10.607743  10.650719   \n",
      "4  12.663552  12.654649  7.375590  9.713648  ...  11.112992   9.552051   \n",
      "\n",
      "        y_65       y_66       y_67       y_68       y_69      y_70       y_71  \\\n",
      "0  10.543216  10.705374   8.281527  11.340272  12.544699  7.742342  11.383904   \n",
      "1   9.338161   8.365652  10.392436  11.660065  11.338554  7.061285   9.208222   \n",
      "2   9.920248   8.876655   8.823909  12.683352  11.380179  9.056828   8.203867   \n",
      "3  10.570024   8.838392   9.602423  10.814013  10.371577  9.337003   9.803724   \n",
      "4  10.634420  11.240075   8.966517  10.860909  10.868903  6.949530  10.711689   \n",
      "\n",
      "       y_72  \n",
      "0  7.469222  \n",
      "1  7.666597  \n",
      "2  8.823233  \n",
      "3  8.509785  \n",
      "4  7.749601  \n",
      "\n",
      "[5 rows x 73 columns]\n"
     ]
    }
   ],
   "source": [
    "if save_flag:\n",
    "    # # 保存为 CSV 文件\n",
    "    csv_path = save_dir + model_name + '.csv'\n",
    "    df.to_csv(csv_path, index=False)\n",
    "    # 创建 DataFrame\n",
    "    column_names = [f'y_{i}' for i in range(1, ys.shape[1] + 1)]\n",
    "    dfy = pd.DataFrame(ys, columns=column_names)\n",
    "    dfy.insert(0, 'date', time_series)\n",
    "\n",
    "    print(dfy.head())\n",
    "    csv_path = save_dir + model_name + '_obs.csv'\n",
    "    dfy.to_csv(csv_path, index=False)\n",
    "\n",
    "    column_names = [f'y_{i}' for i in range(1, ys_corrupted.shape[1] + 1)]\n",
    "    dfy = pd.DataFrame(ys_corrupted, columns=column_names)\n",
    "    dfy.insert(0, 'date', time_series)\n",
    "\n",
    "    print(dfy.head())\n",
    "    csv_path = save_dir + model_name + '_obs_corrupted.csv'\n",
    "    dfy.to_csv(csv_path, index=False)"
   ]
  },
  {
   "cell_type": "code",
   "execution_count": 8,
   "metadata": {},
   "outputs": [],
   "source": [
    "range_time = np.arange(N) * dt\n",
    "np.set_printoptions(precision=4)\n",
    "def callback_fn(particles, particles_pred, y, i):\n",
    "    return jnp.sqrt(jnp.power(particles.mean(axis=0) - xs[i], 2).mean()), particles.mean(axis=0)\n",
    "def latent_fn(x, key, i):\n",
    "    \"\"\"\n",
    "    State function\n",
    "    \"\"\"\n",
    "    err = jax.random.normal(key, (D,))\n",
    "    @jax.jit\n",
    "    def f(x, t):\n",
    "        return fcoord(x, D) + F + err\n",
    "    \n",
    "    return rk4_step(x, i, dt, f)\n",
    "\n",
    "\n",
    "def obs_fn(x, key, i):\n",
    "    \"\"\"\n",
    "    Measurement function\n",
    "    \"\"\"\n",
    "    err = jax.random.normal(key, (D,))\n",
    "    return x + err\n",
    "\n",
    "def calculate_mse(errs):\n",
    "    return jnp.mean(jnp.square(errs))\n",
    "def calculate_mae(errs):\n",
    "    return jnp.mean(jnp.abs(errs))\n",
    "\n",
    "def calculate_rmse(errs):\n",
    "    return jnp.sqrt(jnp.mean(jnp.square(errs)))\n",
    "\n",
    "def calculate_test_error(errs):\n",
    "    mse = calculate_mse(errs)\n",
    "    mae = calculate_mae(errs)\n",
    "    rmse = calculate_rmse(errs) \n",
    "    print(f'mse:{mse}, mae:{mae}, rmse:{rmse}')\n",
    "    return mse, mae, rmse"
   ]
  },
  {
   "cell_type": "code",
   "execution_count": 9,
   "metadata": {},
   "outputs": [],
   "source": [
    "# y_index = int(0.8 * ys.shape[0])\n",
    "# print(ys.shape)\n",
    "# # 截取最后 20% 的数据\n",
    "# ys = ys[y_index:]\n",
    "# ys_corrupted = ys_corrupted[y_index:]\n",
    "# print(ys.shape)"
   ]
  },
  {
   "cell_type": "code",
   "execution_count": 10,
   "metadata": {},
   "outputs": [
    {
     "name": "stdout",
     "output_type": "stream",
     "text": [
      "mse:nan, mae:nan, rmse:nan\n",
      "time cost (ms): 0.5698678493499756\n",
      "corrupted\n",
      "mse:nan, mae:nan, rmse:nan\n",
      "time cost (ms): 0.13200724124908447\n"
     ]
    }
   ],
   "source": [
    "method = 'EnKF_20'\n",
    "n_particles = 20\n",
    "agent = enkf.EnsembleKalmanFilter(latent_fn, obs_fn, n_particles)\n",
    "key_init_particles, key_scan = jax.random.split(key_eval, 2)\n",
    "X0 = agent.init_bel(key_init_particles, D)\n",
    "tinit = time()\n",
    "particles_end, (errs, particles_hist_mean) = agent.scan(X0, key_scan, ys, callback_fn=callback_fn)\n",
    "tend = time()\n",
    "time_cost = tend - tinit\n",
    "errs_index = int(0.8 * errs.shape[0])\n",
    "calculate_test_error(errs[errs_index:])\n",
    "print('time cost (ms):', time_cost)\n",
    "tinit = time()\n",
    "particles_end, (errs, particles_hist_mean) = agent.scan(X0, key_scan, ys_corrupted, callback_fn=callback_fn)\n",
    "tend = time()\n",
    "time_cost = (tend - tinit) / 0.2 / N * 1000\n",
    "print('corrupted')\n",
    "calculate_test_error(errs[errs_index:])\n",
    "print('time cost (ms):', time_cost)"
   ]
  },
  {
   "cell_type": "code",
   "execution_count": 11,
   "metadata": {},
   "outputs": [
    {
     "name": "stdout",
     "output_type": "stream",
     "text": [
      "mse:3.9054126739501953, mae:1.9699300527572632, rmse:1.976211667060852\n",
      "time cost (ms): 0.446089506149292\n",
      "corrupted\n",
      "mse:2.726518154144287, mae:1.6457977294921875, rmse:1.6512172222137451\n",
      "time cost (ms): 0.7171604633331299\n"
     ]
    }
   ],
   "source": [
    "method = 'EnKF_1000'\n",
    "n_particles = 1000\n",
    "agent = enkf.EnsembleKalmanFilter(latent_fn, obs_fn, n_particles)\n",
    "key_init_particles, key_scan = jax.random.split(key_eval, 2)\n",
    "X0 = agent.init_bel(key_init_particles, D)\n",
    "tinit = time()\n",
    "particles_end, (errs, particles_hist_mean) = agent.scan(X0, key_scan, ys, callback_fn=callback_fn)\n",
    "tend = time()\n",
    "time_cost = tend - tinit\n",
    "calculate_test_error(errs[errs_index:])\n",
    "print('time cost (ms):', time_cost)\n",
    "tinit = time()\n",
    "particles_end, (errs, particles_hist_mean) = agent.scan(X0, key_scan, ys_corrupted, callback_fn=callback_fn)\n",
    "tend = time()\n",
    "time_cost = tend - tinit\n",
    "print('corrupted')\n",
    "calculate_test_error(errs[errs_index:])\n",
    "print('time cost (ms):', time_cost)"
   ]
  },
  {
   "cell_type": "code",
   "execution_count": 12,
   "metadata": {},
   "outputs": [
    {
     "name": "stdout",
     "output_type": "stream",
     "text": [
      "mse:10.849430084228516, mae:3.275829315185547, rmse:3.2938473224639893\n",
      "time cost (ms): 0.6817166805267334\n",
      "corrupted\n",
      "mse:0.5596656203269958, mae:0.7391964197158813, rmse:0.7481080293655396\n",
      "time cost (ms): 0.6094875335693359\n"
     ]
    }
   ],
   "source": [
    "method = 'EnKFI_20_3'\n",
    "n_particles = 20\n",
    "inflation_factor = 3.0\n",
    "agent = enkf.EnsembleKalmanFilterInflation(latent_fn, obs_fn, n_particles, inflation_factor=inflation_factor)\n",
    "# agent = enkf.EnsembleKalmanFilter(latent_fn, obs_fn, n_particles)\n",
    "key_init_particles, key_scan = jax.random.split(key_eval, 2)\n",
    "X0 = agent.init_bel(key_init_particles, D)\n",
    "tinit = time()\n",
    "particles_end, (errs, particles_hist_mean) = agent.scan(X0, key_scan, ys, callback_fn=callback_fn)\n",
    "tend = time()\n",
    "time_cost = tend - tinit\n",
    "calculate_test_error(errs[errs_index:])\n",
    "print('time cost (ms):', time_cost)\n",
    "tinit = time()\n",
    "particles_end, (errs, particles_hist_mean) = agent.scan(X0, key_scan, ys_corrupted, callback_fn=callback_fn)\n",
    "tend = time()\n",
    "time_cost = tend - tinit\n",
    "print('corrupted')\n",
    "calculate_test_error(errs[errs_index:])\n",
    "print('time cost (ms):', time_cost)"
   ]
  },
  {
   "cell_type": "code",
   "execution_count": 13,
   "metadata": {},
   "outputs": [
    {
     "name": "stdout",
     "output_type": "stream",
     "text": [
      "mse:8.013690948486328, mae:2.820892810821533, rmse:2.8308463096618652\n",
      "time cost (ms): 0.7259926795959473\n",
      "corrupted\n",
      "mse:0.3973667323589325, mae:0.6230413317680359, rmse:0.6303703188896179\n",
      "time cost (ms): 0.7065515518188477\n"
     ]
    }
   ],
   "source": [
    "method = 'EnKFI_1000_3'\n",
    "n_particles = 1000\n",
    "inflation_factor = 3.0\n",
    "agent = enkf.EnsembleKalmanFilterInflation(latent_fn, obs_fn, n_particles, inflation_factor=inflation_factor)\n",
    "# agent = enkf.EnsembleKalmanFilter(latent_fn, obs_fn, n_particles)\n",
    "key_init_particles, key_scan = jax.random.split(key_eval, 2)\n",
    "X0 = agent.init_bel(key_init_particles, D)\n",
    "tinit = time()\n",
    "particles_end, (errs, particles_hist_mean) = agent.scan(X0, key_scan, ys, callback_fn=callback_fn)\n",
    "tend = time()\n",
    "time_cost = tend - tinit\n",
    "calculate_test_error(errs[errs_index:])\n",
    "print('time cost (ms):', time_cost)\n",
    "tinit = time()\n",
    "particles_end, (errs, particles_hist_mean) = agent.scan(X0, key_scan, ys_corrupted, callback_fn=callback_fn)\n",
    "tend = time()\n",
    "time_cost = tend - tinit\n",
    "print('corrupted')\n",
    "calculate_test_error(errs[errs_index:])\n",
    "print('time cost (ms):', time_cost)"
   ]
  },
  {
   "cell_type": "code",
   "execution_count": 14,
   "metadata": {},
   "outputs": [
    {
     "name": "stdout",
     "output_type": "stream",
     "text": [
      "[2.6445 1.1461 0.6749 0.6959 0.6041 0.6148 0.5518 0.5083 0.5671 0.7428\n",
      " 0.7839 0.6182 0.593  0.663  0.6123 0.5986 0.5182 0.7085 0.567  0.5363]\n"
     ]
    }
   ],
   "source": [
    "print(errs[:20])"
   ]
  },
  {
   "cell_type": "code",
   "execution_count": 15,
   "metadata": {},
   "outputs": [],
   "source": [
    "# n_particles = 20\n",
    "# inflation_factor = 3.0\n",
    "# agent = enkf.EnsembleKalmanFilterInflation(latent_fn, obs_fn, n_particles, inflation_factor=inflation_factor)\n",
    "# # agent = enkf.EnsembleKalmanFilter(latent_fn, obs_fn, n_particles)\n",
    "# key_init_particles, key_scan = jax.random.split(key_eval, 2)\n",
    "# X0 = agent.init_bel(key_init_particles, D)\n",
    "# tinit = time()\n",
    "# particles_end, (errs, particles_hist_mean) = agent.scan(X0, key_scan, ys, callback_fn=callback_fn)\n",
    "# tend = time()\n",
    "# time_cost = tend - tinit\n",
    "# calculate_test_error(errs)"
   ]
  },
  {
   "cell_type": "code",
   "execution_count": 16,
   "metadata": {},
   "outputs": [],
   "source": [
    "# n_particles = 1000\n",
    "# inflation_factor = 3.0\n",
    "# agent = enkf.EnsembleKalmanFilterInflation(latent_fn, obs_fn, n_particles, inflation_factor=inflation_factor)\n",
    "# # agent = enkf.EnsembleKalmanFilter(latent_fn, obs_fn, n_particles)\n",
    "# key_init_particles, key_scan = jax.random.split(key_eval, 2)\n",
    "# X0 = agent.init_bel(key_init_particles, D)\n",
    "# tinit = time()\n",
    "# particles_end, (errs, particles_hist_mean) = agent.scan(X0, key_scan, ys, callback_fn=callback_fn)\n",
    "# tend = time()\n",
    "# time_cost = tend - tinit\n",
    "# calculate_test_error(errs)"
   ]
  }
 ],
 "metadata": {
  "kernelspec": {
   "display_name": "jax",
   "language": "python",
   "name": "python3"
  },
  "language_info": {
   "codemirror_mode": {
    "name": "ipython",
    "version": 3
   },
   "file_extension": ".py",
   "mimetype": "text/x-python",
   "name": "python",
   "nbconvert_exporter": "python",
   "pygments_lexer": "ipython3",
   "version": "3.10.15"
  }
 },
 "nbformat": 4,
 "nbformat_minor": 2
}
