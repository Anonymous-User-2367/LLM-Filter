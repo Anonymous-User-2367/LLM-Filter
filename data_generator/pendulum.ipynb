{
 "cells": [
  {
   "cell_type": "code",
   "execution_count": 17,
   "metadata": {},
   "outputs": [],
   "source": [
    "from time import time\n",
    "import jax\n",
    "import numpy as np\n",
    "import pandas as pd\n",
    "import seaborn as sns\n",
    "import jax.numpy as jnp\n",
    "import matplotlib.pyplot as plt\n",
    "from functools import partial\n",
    "from datetime import datetime, timedelta\n",
    "import ensemble_kalman_filter as enkf\n",
    "from tqdm import tqdm\n",
    "from bayes_opt import BayesianOptimization\n",
    "from rebayes_mini.methods import robust_filter as rkf\n",
    "from rebayes_mini import callbacks\n",
    "import os\n",
    "sin = jnp.sin\n",
    "cos = jnp.cos"
   ]
  },
  {
   "cell_type": "code",
   "execution_count": 18,
   "metadata": {},
   "outputs": [
    {
     "name": "stdout",
     "output_type": "stream",
     "text": [
      "The autoreload extension is already loaded. To reload it, use:\n",
      "  %reload_ext autoreload\n"
     ]
    }
   ],
   "source": [
    "%load_ext autoreload\n",
    "%autoreload 2\n",
    "%config InlineBackend.figure_format = \"retina\"\n",
    "plt.style.use(\"default\")\n",
    "plt.rcParams[\"font.size\"] = 18"
   ]
  },
  {
   "cell_type": "code",
   "execution_count": 19,
   "metadata": {},
   "outputs": [],
   "source": [
    "# Constants for the double pendulum system\n",
    "G  = 9.8  # Acceleration due to gravity (m/s^2)\n",
    "L1 = 1.0  # Length of pendulum 1 (m)\n",
    "L2 = 1.0  # Length of pendulum 2 (m)\n",
    "M1 = 1.0  # Mass of pendulum 1 (kg)\n",
    "M2 = 1.0  # Mass of pendulum 2 (kg)\n",
    "\n",
    "# Simulation parameters\n",
    "M = 100         # Number of Monte Carlo samples\n",
    "N = 200         # Number of time steps\n",
    "dt = 0.01       # Time step size\n",
    "dim_state = 4   # State dimension: [θ1, ω1, θ2, ω2]\n",
    "dim_obs = 2     # Observation dimension: [θ1, θ2]\n",
    "model_name = 'pendulum'\n",
    "save_flag = False\n",
    "corrupted = False\n",
    "f_inacc = False\n",
    "save_dir = '../dataset/pendulum/'  # Directory to save data\n",
    "\n",
    "# Ensure the directory exists\n",
    "if not os.path.exists(save_dir):\n",
    "    os.makedirs(save_dir)\n",
    "\n",
    "# JAX random keys for reproducibility\n",
    "key = jax.random.PRNGKey(31415)\n",
    "key_init, key_sim, key_eval, key_obs = jax.random.split(key, 4)\n",
    "key_state, key_measurement = jax.random.split(key_sim)\n",
    "\n",
    "# Initial condition: [θ1, ω1, θ2, ω2]\n",
    "X0 = jnp.radians(jnp.array([130, 0, -10, 0]))  # Convert angles to radians\n",
    "mu0, cov0 = X0, jnp.eye(4) * 0.01**2           # Mean and covariance for initialization\n",
    "x0 = jax.random.multivariate_normal(key_init, mean=mu0, cov=cov0)\n",
    "\n",
    "# Dynamics function for the double pendulum\n",
    "def fcoord(x, t):\n",
    "    \"\"\"\n",
    "    Computes the derivatives of the state variables.\n",
    "    \n",
    "    Parameters:\n",
    "        x: State vector [θ1, ω1, θ2, ω2].\n",
    "        t: Time (not used explicitly in this example but can be used for time-dependent systems).\n",
    "    \n",
    "    Returns:\n",
    "        dydx: Derivatives of the state vector.\n",
    "    \"\"\"\n",
    "    th1, w1, th2, w2 = x  # Unpack state variables\n",
    "\n",
    "    dydx = jnp.zeros_like(x)\n",
    "    dydx = dydx.at[0].set(w1)  # d(θ1)/dt = ω1\n",
    "    dydx = dydx.at[2].set(w2)  # d(θ2)/dt = ω2\n",
    "\n",
    "    D = th2 - th1  # Angle difference between pendulums\n",
    "\n",
    "    # Compute angular accelerations using equations of motion\n",
    "    Denom1 = (M1 + M2)*L1 - M2*L1*jnp.cos(D)*jnp.cos(D)\n",
    "    dd1 = ((M2*L1*w1*w1*jnp.sin(D)*jnp.cos(D)\n",
    "            + M2*G*jnp.sin(th2)*jnp.cos(D)\n",
    "            + M2*L2*w2*w2*jnp.sin(D)\n",
    "            - (M1 + M2)*G*jnp.sin(th1)) / Denom1)\n",
    "    dydx = dydx.at[1].set(dd1)  # d(ω1)/dt = dd1\n",
    "\n",
    "    Denom2 = (L2 / L1) * Denom1\n",
    "    dd2 = ((-M2*L2*w2*w2*jnp.sin(D)*jnp.cos(D)\n",
    "            + (M1 + M2)*G*jnp.sin(th1)*jnp.cos(D)\n",
    "            - (M1 + M2)*L1*w1*w1*jnp.sin(D)\n",
    "            - (M1 + M2)*G*jnp.sin(th2)) / Denom2)\n",
    "    dydx = dydx.at[3].set(dd2)  # d(ω2)/dt = dd2\n",
    "\n",
    "    return dydx\n",
    "\n",
    "# State dynamics with noise\n",
    "def f(x, t, D, *args):\n",
    "    \"\"\"\n",
    "    Computes the state transition with noise.\n",
    "\n",
    "    Parameters:\n",
    "        x: State vector [θ1, ω1, θ2, ω2].\n",
    "        t: Time step.\n",
    "        D: Dimensionality of the state.\n",
    "        *args: Additional arguments for flexibility.\n",
    "    \n",
    "    Returns:\n",
    "        xdot: State transition with noise.\n",
    "    \"\"\"\n",
    "    keyt = jax.random.fold_in(key_state, t)\n",
    "    err = jax.random.normal(keyt, shape=(D,))  # Gaussian noise\n",
    "    xdot = fcoord(x, t) + err  # Add noise to the state dynamics\n",
    "    return xdot\n",
    "\n",
    "fC = f  # For compatibility, fC is the same as f here\n",
    "\n",
    "# Linear observation model\n",
    "H = jnp.array([[1, 0, 0, 0],  # Extract θ1\n",
    "               [0, 0, 1, 0]]) # Extract θ2\n",
    "\n",
    "def hcoord(x, t):\n",
    "    \"\"\"\n",
    "    Computes the observation from the state vector.\n",
    "    \n",
    "    Parameters:\n",
    "        x: State vector [θ1, ω1, θ2, ω2].\n",
    "        t: Time (not used explicitly).\n",
    "    \n",
    "    Returns:\n",
    "        y: Observation vector [θ1, θ2].\n",
    "    \"\"\"\n",
    "    return H @ x\n",
    "\n",
    "# Observation function with noise\n",
    "def h(x, t, D, *args):\n",
    "    \"\"\"\n",
    "    Computes the observation with noise.\n",
    "\n",
    "    Parameters:\n",
    "        x: State vector [θ1, ω1, θ2, ω2].\n",
    "        t: Time step.\n",
    "        D: Dimensionality of the observation space.\n",
    "        *args: Additional arguments for flexibility.\n",
    "    \n",
    "    Returns:\n",
    "        ydot: Observation with noise.\n",
    "    \"\"\"\n",
    "    keyt = jax.random.fold_in(key_measurement, t)\n",
    "    err = jax.random.normal(keyt, shape=(D,))  # Gaussian noise\n",
    "    ydot = hcoord(x, t) + err  # Add noise to the observations\n",
    "    return ydot\n",
    "\n",
    "# Step function to compute observations over time\n",
    "def h_step(ys, dt, N, h):\n",
    "    \"\"\"\n",
    "    Computes a sequence of observations over time.\n",
    "    \n",
    "    Parameters:\n",
    "        ys: Initial observations.\n",
    "        dt: Time step size.\n",
    "        N: Number of time steps.\n",
    "        h: Observation function.\n",
    "    \n",
    "    Returns:\n",
    "        yss: Sequence of observations.\n",
    "    \"\"\"\n",
    "    yss = jnp.zeros((N, dim_obs))  # Preallocate observation array\n",
    "\n",
    "    def step(i, carry):\n",
    "        yss, ys = carry\n",
    "        ysi = h(ys[i - 1], dt * i)  # Compute observation at step i\n",
    "        yss = yss.at[i].set(ysi)\n",
    "        return (yss, ys)\n",
    "\n",
    "    yss, ys = jax.lax.fori_loop(1, N, step, (yss, ys))\n",
    "    return yss\n",
    "\n",
    "# Helper functions\n",
    "def ff(x):\n",
    "    \"\"\"Wrapper for state dynamics.\"\"\"\n",
    "    return fcoord(x, dt)\n",
    "\n",
    "def hh(x, t):\n",
    "    \"\"\"Wrapper for linear observation function.\"\"\"\n",
    "    return H @ x\n"
   ]
  },
  {
   "cell_type": "code",
   "execution_count": 22,
   "metadata": {},
   "outputs": [],
   "source": [
    "from data_generation import generate_and_save_data, load_data\n",
    "from filtering_methods import run_filtering\n",
    "if save_flag:\n",
    "    statev, yv, yv_corrupted = generate_and_save_data(\n",
    "        M, N, dt, dim_state, dim_obs, mu0, cov0, key_init, key_obs,\n",
    "        f, fC, h, h_step, save_dir, model_name, save_flag, corrupted, f_inacc\n",
    "    )\n",
    "else:\n",
    "    statev, yv, yv_corrupted = load_data(save_dir, model_name, M, N, dim_state, dim_obs, corrupted)"
   ]
  },
  {
   "cell_type": "code",
   "execution_count": 25,
   "metadata": {},
   "outputs": [
    {
     "name": "stdout",
     "output_type": "stream",
     "text": [
      "System pendulum\n",
      "corrupted False\n",
      "f_inacc False\n",
      "EKF\n"
     ]
    },
    {
     "name": "stderr",
     "output_type": "stream",
     "text": [
      "  0%|          | 0/20 [00:00<?, ?it/s]"
     ]
    },
    {
     "name": "stderr",
     "output_type": "stream",
     "text": [
      "100%|██████████| 20/20 [00:13<00:00,  1.48it/s]\n"
     ]
    },
    {
     "name": "stdout",
     "output_type": "stream",
     "text": [
      "WLFIMQ\n"
     ]
    },
    {
     "name": "stderr",
     "output_type": "stream",
     "text": [
      "100%|██████████| 20/20 [00:23<00:00,  1.16s/it]\n"
     ]
    },
    {
     "name": "stdout",
     "output_type": "stream",
     "text": [
      "WLFSQ\n"
     ]
    },
    {
     "name": "stderr",
     "output_type": "stream",
     "text": [
      "100%|██████████| 20/20 [00:14<00:00,  1.40it/s]\n"
     ]
    },
    {
     "name": "stdout",
     "output_type": "stream",
     "text": [
      "WLFMD\n"
     ]
    },
    {
     "name": "stderr",
     "output_type": "stream",
     "text": [
      "100%|██████████| 20/20 [00:13<00:00,  1.49it/s]\n"
     ]
    },
    {
     "name": "stdout",
     "output_type": "stream",
     "text": [
      "PF\n"
     ]
    },
    {
     "name": "stderr",
     "output_type": "stream",
     "text": [
      "100%|██████████| 20/20 [01:40<00:00,  5.02s/it]\n"
     ]
    },
    {
     "name": "stdout",
     "output_type": "stream",
     "text": [
      "Done\n",
      "RMSE\n",
      "{'EKF': Array(nan, dtype=float32),\n",
      " 'PF': Array(nan, dtype=float32),\n",
      " 'WLFIMQ': Array(nan, dtype=float32),\n",
      " 'WLFMD': Array(nan, dtype=float32),\n",
      " 'WLFSQ': Array(nan, dtype=float32)}\n",
      "Time\n",
      "{'EKF': np.float64(3.389719605445862),\n",
      " 'PF': np.float64(25.11091560125351),\n",
      " 'WLFIMQ': np.float64(5.805581152439117),\n",
      " 'WLFMD': np.float64(3.3533756732940674),\n",
      " 'WLFSQ': np.float64(3.566981673240662)}\n"
     ]
    }
   ],
   "source": [
    "print('System', model_name)\n",
    "print('corrupted', corrupted)\n",
    "print('f_inacc', f_inacc)\n",
    "methods = ['EKF', 'WLFIMQ', 'WLFSQ', 'WLFMD', 'PF']\n",
    "# methods = ['EKF', 'EnKF', 'EnKFI', 'HubEnKF', 'EnKFS', 'PF']\n",
    "# methods = ['EnKFS']\n",
    "if corrupted:\n",
    "    yv_test = yv_corrupted[int(M * 0.8):]\n",
    "else:\n",
    "    yv_test = yv[int(M * 0.8):]\n",
    "statev_test = statev[int(M * 0.8):]\n",
    "parameter_range = (1, 5)\n",
    "_, _, _ = run_filtering(methods, yv_test, statev_test, key_eval, ff, hh, num_particle=1000)"
   ]
  }
 ],
 "metadata": {
  "kernelspec": {
   "display_name": "jax",
   "language": "python",
   "name": "python3"
  },
  "language_info": {
   "codemirror_mode": {
    "name": "ipython",
    "version": 3
   },
   "file_extension": ".py",
   "mimetype": "text/x-python",
   "name": "python",
   "nbconvert_exporter": "python",
   "pygments_lexer": "ipython3",
   "version": "3.10.15"
  }
 },
 "nbformat": 4,
 "nbformat_minor": 2
}
