{
 "cells": [
  {
   "cell_type": "code",
   "execution_count": 1,
   "metadata": {},
   "outputs": [],
   "source": [
    "from time import time\n",
    "import jax\n",
    "import numpy as np\n",
    "import pandas as pd\n",
    "import seaborn as sns\n",
    "import jax.numpy as jnp\n",
    "import matplotlib.pyplot as plt\n",
    "from functools import partial\n",
    "from datetime import datetime, timedelta\n",
    "import ensemble_kalman_filter as enkf\n",
    "from tqdm import tqdm\n",
    "from bayes_opt import BayesianOptimization\n",
    "from rebayes_mini.methods import robust_filter as rkf\n",
    "from rebayes_mini import callbacks\n",
    "import os\n",
    "sin = jnp.sin\n",
    "cos = jnp.cos"
   ]
  },
  {
   "cell_type": "code",
   "execution_count": 2,
   "metadata": {},
   "outputs": [],
   "source": [
    "%load_ext autoreload\n",
    "%autoreload 2\n",
    "%config InlineBackend.figure_format = \"retina\"\n",
    "plt.style.use(\"default\")\n",
    "plt.rcParams[\"font.size\"] = 18"
   ]
  },
  {
   "cell_type": "code",
   "execution_count": 3,
   "metadata": {},
   "outputs": [
    {
     "name": "stderr",
     "output_type": "stream",
     "text": [
      "An NVIDIA GPU may be present on this machine, but a CUDA-enabled jaxlib is not installed. Falling back to cpu.\n"
     ]
    }
   ],
   "source": [
    "# Define simulation parameters\n",
    "M = 100  # Number of Monte Carlo samples\n",
    "N = 200  # Number of time steps\n",
    "dt = 0.01  # Time step size\n",
    "dim_state = 2  # Dimension of state variables\n",
    "dim_obs = 2  # Dimension of observation variables\n",
    "mu = 0.5  # Parameter controlling the Hopf oscillator's behavior\n",
    "omega = 1.0  # Frequency of the oscillator\n",
    "A = 1.0  # Amplitude damping parameter\n",
    "s_var = 1.0  # Variance for state noise\n",
    "o_var = np.sqrt(1.0)  # Standard deviation for observation noise\n",
    "model_name = 'hopf'  # Model name for saving results\n",
    "save_flag = False  # Flag to enable/disable saving results\n",
    "save_dir = '../dataset/' + model_name + '/'  # Directory to save results\n",
    "corrupted = False  # Flag to indicate if corrupted observations should be generated\n",
    "f_inacc = False  # Flag to indicate if an inaccurate state transition function is used\n",
    "ALPHA = 2.0  # Range for perturbations in inaccurate dynamics\n",
    "BETA = 2.0  # Range for perturbations in inaccurate dynamics\n",
    "\n",
    "# Ensure the directory exists\n",
    "if not os.path.exists(save_dir):\n",
    "    os.makedirs(save_dir)\n",
    "\n",
    "# Generate random keys for reproducibility\n",
    "key = jax.random.PRNGKey(31415)\n",
    "key_init, key_sim, key_eval, key_obs = jax.random.split(key, 4)\n",
    "key_state, key_measurement = jax.random.split(key_sim)\n",
    "\n",
    "# Define the initial condition for the Hopf oscillator\n",
    "X0 = jnp.radians(jnp.array([2.0, 2.0]))  # Initial state in radians\n",
    "mu0, cov0 = X0, jnp.eye(dim_state) * 0.1**2  # Mean and covariance of initial state\n",
    "x0 = jax.random.multivariate_normal(key_init, mean=mu0, cov=cov0)\n",
    "\n",
    "# Define the system dynamics for the Hopf oscillator\n",
    "def fcoord(x, t):\n",
    "    \"\"\"System dynamics function for the Hopf oscillator.\"\"\"\n",
    "    x_dot = (\n",
    "        mu * x[..., 0]\n",
    "        + omega * x[..., 1]\n",
    "        - A * x[..., 0] * (x[..., 0] ** 2 + x[..., 1] ** 2)\n",
    "    )\n",
    "    y_dot = (\n",
    "        -omega * x[..., 0]\n",
    "        + mu * x[..., 1]\n",
    "        - A * x[..., 1] * (x[..., 0] ** 2 + x[..., 1] ** 2)\n",
    "    )\n",
    "    dx = jnp.stack([x_dot, y_dot], axis=-1)\n",
    "    return dx\n",
    "\n",
    "# Accurate state transition function with optional noise\n",
    "def f(x, t, D, kain_var=1, *args):\n",
    "    \"\"\"Accurate state transition function with added random noise.\"\"\"\n",
    "    keyt = jax.random.fold_in(key_state, t)\n",
    "    err = jax.random.normal(keyt, shape=(D,))\n",
    "    xdot = fcoord(x, t) + kain_var * err\n",
    "    return xdot\n",
    "\n",
    "# Inaccurate state transition function with perturbations\n",
    "def fC(x, t, D, kain_var=1, *args):\n",
    "    \"\"\"Inaccurate state transition function with added perturbations.\"\"\"\n",
    "    keyt = jax.random.fold_in(key_state, t)\n",
    "    err = jax.random.normal(keyt, shape=(D,))\n",
    "    key_a, key_b = jax.random.split(keyt)\n",
    "    dx_mod = fcoord(x, t) + kain_var * err\n",
    "    a = jax.random.uniform(key_a, x.shape, minval=-ALPHA, maxval=ALPHA)\n",
    "    b = jax.random.uniform(key_b, x.shape, minval=-BETA, maxval=BETA)\n",
    "\n",
    "    # Apply adjustments to the dynamics\n",
    "    dx_mod = dx_mod.at[0].set(dx_mod[0] - a[0] * x[1] + b[0])\n",
    "    return dx_mod\n",
    "\n",
    "# Define the observation matrix\n",
    "H = jnp.array([[1, 0], [0, 1]])\n",
    "\n",
    "# Observation function without noise\n",
    "def hcoord(x, t):\n",
    "    \"\"\"Linear observation function.\"\"\"\n",
    "    return H @ x\n",
    "\n",
    "# Observation function with noise\n",
    "def h(x, t, D, kain_var=1, *args):\n",
    "    \"\"\"Observation function with added measurement noise.\"\"\"\n",
    "    keyt = jax.random.fold_in(key_measurement, t)\n",
    "    err = jax.random.normal(keyt, shape=(D,))\n",
    "    ydot = hcoord(x, t) + kain_var * err\n",
    "    return ydot\n",
    "\n",
    "# Compute observations over time using a time-stepping function\n",
    "def h_step(ys, dt, N, h):\n",
    "    \"\"\"Iteratively compute observations over time.\"\"\"\n",
    "    yss = jnp.zeros((N, dim_obs))\n",
    "\n",
    "    def step(i, carry):\n",
    "        \"\"\"Single step update for observation computation.\"\"\"\n",
    "        yss, ys = carry\n",
    "        ysi = h(ys[i - 1], dt * i)\n",
    "        yss = yss.at[i].set(ysi)\n",
    "        return (yss, ys)\n",
    "\n",
    "    yss, ys = jax.lax.fori_loop(1, N, step, (yss, ys))\n",
    "    return yss\n",
    "\n",
    "# Convenience wrappers for state dynamics and observations\n",
    "def ff(x):\n",
    "    \"\"\"Wrapper for state dynamics.\"\"\"\n",
    "    return fcoord(x, dt)\n",
    "\n",
    "def hh(x, t):\n",
    "    \"\"\"Wrapper for linear observation function.\"\"\"\n",
    "    return H @ x\n"
   ]
  },
  {
   "cell_type": "code",
   "execution_count": 4,
   "metadata": {},
   "outputs": [],
   "source": [
    "from data_generation import generate_and_save_data, load_data\n",
    "from filtering_methods import run_filtering\n",
    "if save_flag:\n",
    "    statev, yv, yv_corrupted = generate_and_save_data(\n",
    "        M, N, dt, dim_state, dim_obs, mu0, cov0, key_init, key_obs,\n",
    "        f, fC, h, h_step, save_dir, model_name, save_flag, corrupted, f_inacc\n",
    "    )\n",
    "else:\n",
    "    statev, yv, yv_corrupted = load_data(save_dir, model_name, M, N, dim_state, dim_obs, corrupted)"
   ]
  },
  {
   "cell_type": "code",
   "execution_count": 5,
   "metadata": {},
   "outputs": [
    {
     "name": "stdout",
     "output_type": "stream",
     "text": [
      "System hopf\n",
      "corrupted False\n",
      "f_inacc False\n",
      "EKF\n"
     ]
    },
    {
     "name": "stderr",
     "output_type": "stream",
     "text": [
      "100%|██████████| 20/20 [00:05<00:00,  3.74it/s]\n"
     ]
    },
    {
     "name": "stdout",
     "output_type": "stream",
     "text": [
      "EnKF\n"
     ]
    },
    {
     "name": "stderr",
     "output_type": "stream",
     "text": [
      "100%|██████████| 20/20 [00:10<00:00,  1.93it/s]\n"
     ]
    },
    {
     "name": "stdout",
     "output_type": "stream",
     "text": [
      "EnKFI\n"
     ]
    },
    {
     "name": "stderr",
     "output_type": "stream",
     "text": [
      "100%|██████████| 20/20 [00:11<00:00,  1.68it/s]\n"
     ]
    },
    {
     "name": "stdout",
     "output_type": "stream",
     "text": [
      "HubEnKF\n"
     ]
    },
    {
     "name": "stderr",
     "output_type": "stream",
     "text": [
      "100%|██████████| 20/20 [00:11<00:00,  1.76it/s]\n"
     ]
    },
    {
     "name": "stdout",
     "output_type": "stream",
     "text": [
      "EnKFS\n"
     ]
    },
    {
     "name": "stderr",
     "output_type": "stream",
     "text": [
      "100%|██████████| 20/20 [00:10<00:00,  1.86it/s]\n"
     ]
    },
    {
     "name": "stdout",
     "output_type": "stream",
     "text": [
      "PF\n"
     ]
    },
    {
     "name": "stderr",
     "output_type": "stream",
     "text": [
      "100%|██████████| 20/20 [00:11<00:00,  1.80it/s]"
     ]
    },
    {
     "name": "stdout",
     "output_type": "stream",
     "text": [
      "Done\n",
      "RMSE\n",
      "{'EKF': Array(nan, dtype=float32),\n",
      " 'EnKF': Array(0.6304, dtype=float32),\n",
      " 'EnKFI': Array(0.6195, dtype=float32),\n",
      " 'EnKFS': Array(0.6297, dtype=float32),\n",
      " 'HubEnKF': Array(0.6222, dtype=float32),\n",
      " 'PF': Array(0.4282, dtype=float32)}\n",
      "Time\n",
      "{'EKF': np.float64(1.3359935283660889),\n",
      " 'EnKF': np.float64(2.5878028869628906),\n",
      " 'EnKFI': np.float64(2.9749724864959712),\n",
      " 'EnKFS': np.float64(2.684306025505066),\n",
      " 'HubEnKF': np.float64(2.848555326461792),\n",
      " 'PF': np.float64(2.78542822599411)}\n"
     ]
    },
    {
     "name": "stderr",
     "output_type": "stream",
     "text": [
      "\n"
     ]
    }
   ],
   "source": [
    "print('System', model_name)\n",
    "print('corrupted', corrupted)\n",
    "print('f_inacc', f_inacc)\n",
    "methods = ['EKF', 'EnKF', 'EnKFI', 'HubEnKF', 'EnKFS', 'PF']\n",
    "# methods = ['EnKFS']\n",
    "if corrupted:\n",
    "    yv_test = yv_corrupted[int(M * 0.8):]\n",
    "else:\n",
    "    yv_test = yv[int(M * 0.8):]\n",
    "statev_test = statev[int(M * 0.8):]\n",
    "_, _, _ = run_filtering(methods, yv_test, statev_test, key_eval, ff, hh, num_particle=1000)"
   ]
  }
 ],
 "metadata": {
  "kernelspec": {
   "display_name": "jax",
   "language": "python",
   "name": "python3"
  },
  "language_info": {
   "codemirror_mode": {
    "name": "ipython",
    "version": 3
   },
   "file_extension": ".py",
   "mimetype": "text/x-python",
   "name": "python",
   "nbconvert_exporter": "python",
   "pygments_lexer": "ipython3",
   "version": "3.10.15"
  }
 },
 "nbformat": 4,
 "nbformat_minor": 2
}
