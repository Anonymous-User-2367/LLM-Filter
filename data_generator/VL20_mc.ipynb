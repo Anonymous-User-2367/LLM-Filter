{
 "cells": [
  {
   "cell_type": "code",
   "execution_count": 17,
   "metadata": {},
   "outputs": [],
   "source": [
    "from time import time\n",
    "import jax\n",
    "import numpy as np\n",
    "import pandas as pd\n",
    "import seaborn as sns\n",
    "import jax.numpy as jnp\n",
    "import matplotlib.pyplot as plt\n",
    "from functools import partial\n",
    "from datetime import datetime, timedelta\n",
    "import ensemble_kalman_filter as enkf\n",
    "from tqdm import tqdm\n",
    "from bayes_opt import BayesianOptimization\n",
    "from rebayes_mini.methods import robust_filter as rkf\n",
    "from rebayes_mini import callbacks\n",
    "import os"
   ]
  },
  {
   "cell_type": "code",
   "execution_count": 18,
   "metadata": {},
   "outputs": [
    {
     "name": "stdout",
     "output_type": "stream",
     "text": [
      "The autoreload extension is already loaded. To reload it, use:\n",
      "  %reload_ext autoreload\n"
     ]
    }
   ],
   "source": [
    "%load_ext autoreload\n",
    "%autoreload 2\n",
    "%config InlineBackend.figure_format = \"retina\"\n",
    "plt.style.use(\"default\")\n",
    "plt.rcParams[\"font.size\"] = 18\n",
    "XLA_PYTHON_CLIENT_ALLOCATOR=0.5"
   ]
  },
  {
   "cell_type": "code",
   "execution_count": 19,
   "metadata": {},
   "outputs": [],
   "source": [
    "model_name = 'VL20mc'\n",
    "save_flag = False\n",
    "save_dir ='../dataset/'+ model_name +'/'\n",
    "corrupted = False\n",
    "f_inacc = False\n",
    "kain_var = np.sqrt(1)  # Standard deviation of measurement \n",
    "ALPHA=2.0\n",
    "BETA=2.0\n",
    "if not os.path.exists(save_dir):\n",
    "    os.makedirs(save_dir)\n",
    "M=100\n",
    "N=200    \n",
    "D = 72\n",
    "F = 8.0\n",
    "F = 10\n",
    "G = 0\n",
    "alpha = 1\n",
    "gamma = 1\n",
    "dt = 0.01\n",
    "nX = 36\n",
    "dim_state = 2 * nX\n",
    "dim_obs = dim_state\n",
    "if not os.path.exists(save_dir):\n",
    "    os.makedirs(save_dir)\n",
    "\n",
    "key = jax.random.PRNGKey(31415)\n",
    "key_init, key_sim, key_eval, key_obs = jax.random.split(key, 4)\n",
    "key_state, key_measurement = jax.random.split(key_sim)\n",
    "key_obs, key_mc = jax.random.split(key_obs)\n",
    "X0 = jax.random.normal(key_mc, (D,)) + F\n",
    "mu0, cov0 = X0, jnp.eye(dim_state)  # Mean and covariance of initial state\n",
    "\n",
    "def shift(x, n):\n",
    "    return jnp.roll(x, -n, axis=-1)\n",
    "\n",
    "def fcoord(x, t):\n",
    "    X = x[:nX]\n",
    "    theta = x[nX:]\n",
    "    d = jnp.zeros_like(x)\n",
    "    d.at[:nX].set((shift(X, 1)-shift(X, -2))*shift(X, -1))\n",
    "    d.at[:nX].set(d[:nX] - gamma*shift(X, 0)) \n",
    "    d.at[:nX].set(d[:nX] - alpha*shift(theta, 0) + F)\n",
    "    d.at[nX:].set(shift(X, 1)*shift(theta, 2) \\\n",
    "        - shift(X, -1)*shift(theta, -2))\n",
    "    d.at[nX:].set(d[nX:] - gamma*shift(theta, 0))\n",
    "    d.at[nX:].set(d[nX:] + alpha*shift(X, 0) + G) \n",
    "    return d\n",
    "\n",
    "def f(x, t, D, *args):\n",
    "    keyt = jax.random.fold_in(key_state, t)\n",
    "    err = jax.random.normal(keyt, shape=(D,))\n",
    "    xdot = fcoord(x, t) + F + err\n",
    "    return xdot\n",
    "\n",
    "def fC(x, t, D, *args):\n",
    "    keyt = jax.random.fold_in(key_state, t)\n",
    "    err = jax.random.normal(keyt, shape=(D,))\n",
    "    key_a, key_b = jax.random.split(keyt)\n",
    "    ixs = jnp.arange(D)\n",
    "    dx_mod = fcoord(x, ixs, D) + F + err\n",
    "    a = jax.random.uniform(key_a, x.shape, minval=-ALPHA, maxval=ALPHA)\n",
    "    b = jax.random.uniform(key_b, x.shape, minval=-BETA, maxval=BETA)\n",
    "    dx_mod = dx_mod.at[0].set(dx_mod[0] - a[0] * x[1] + b[0])\n",
    "    return dx_mod\n",
    "\n",
    "def hcoord(x, t):\n",
    "    \"\"\"Linear observation function.\"\"\"\n",
    "    return x\n",
    "\n",
    "def h(x, t, D, *args):\n",
    "    \"\"\"Observation function with added measurement noise.\"\"\"\n",
    "    keyt = jax.random.fold_in(key_measurement, t)\n",
    "    err = jax.random.normal(keyt, shape=(D,))\n",
    "    ydot = hcoord(x, t) + kain_var * err\n",
    "    return ydot\n",
    "\n",
    "# Time-stepping function for observations\n",
    "def h_step(ys, dt, N, h):\n",
    "    \"\"\"Iteratively compute observations over time.\"\"\"\n",
    "    yss = jnp.zeros((N, dim_obs))\n",
    "\n",
    "    def step(i, carry):\n",
    "        \"\"\"Single step update for observation computation.\"\"\"\n",
    "        yss, ys = carry\n",
    "        ysi = h(ys[i - 1], dt * i)\n",
    "        yss = yss.at[i].set(ysi)\n",
    "        return (yss, ys)\n",
    "\n",
    "    yss, ys = jax.lax.fori_loop(1, N, step, (yss, ys))\n",
    "    return yss\n",
    "\n",
    "# Helper functions for dynamics and observations\n",
    "def ff(x):\n",
    "    \"\"\"Wrapper for state dynamics.\"\"\"\n",
    "    return fcoord(x, dt)\n",
    "\n",
    "def hh(x, t):\n",
    "    \"\"\"Wrapper for linear observation function.\"\"\"\n",
    "    return hcoord(x, t)"
   ]
  },
  {
   "cell_type": "code",
   "execution_count": 20,
   "metadata": {},
   "outputs": [],
   "source": [
    "from data_generation import generate_and_save_data, load_data\n",
    "from filtering_methods import run_filtering\n",
    "if save_flag:\n",
    "    statev, yv, yv_corrupted = generate_and_save_data(\n",
    "        M, N, dt, dim_state, dim_obs, mu0, cov0, key_init, key_obs,\n",
    "        ff, fC, hh, h_step, save_dir, model_name, save_flag, corrupted, f_inacc\n",
    "    )\n",
    "else:\n",
    "    statev, yv, yv_corrupted = load_data(save_dir, model_name, M, N, dim_state, dim_obs, corrupted)"
   ]
  },
  {
   "cell_type": "code",
   "execution_count": 21,
   "metadata": {},
   "outputs": [
    {
     "name": "stdout",
     "output_type": "stream",
     "text": [
      "System VL20mc\n",
      "corrupted False\n",
      "f_inacc False\n",
      "EKF\n"
     ]
    },
    {
     "name": "stderr",
     "output_type": "stream",
     "text": [
      "  0%|          | 0/20 [00:00<?, ?it/s]"
     ]
    },
    {
     "name": "stderr",
     "output_type": "stream",
     "text": [
      "100%|██████████| 20/20 [00:13<00:00,  1.51it/s]\n"
     ]
    },
    {
     "name": "stdout",
     "output_type": "stream",
     "text": [
      "EnKF\n"
     ]
    },
    {
     "name": "stderr",
     "output_type": "stream",
     "text": [
      "100%|██████████| 20/20 [01:04<00:00,  3.25s/it]\n"
     ]
    },
    {
     "name": "stdout",
     "output_type": "stream",
     "text": [
      "EnKFI\n"
     ]
    },
    {
     "name": "stderr",
     "output_type": "stream",
     "text": [
      "100%|██████████| 20/20 [00:54<00:00,  2.74s/it]\n"
     ]
    },
    {
     "name": "stdout",
     "output_type": "stream",
     "text": [
      "HubEnKF\n"
     ]
    },
    {
     "name": "stderr",
     "output_type": "stream",
     "text": [
      "100%|██████████| 20/20 [01:12<00:00,  3.63s/it]\n"
     ]
    },
    {
     "name": "stdout",
     "output_type": "stream",
     "text": [
      "EnKFS\n"
     ]
    },
    {
     "name": "stderr",
     "output_type": "stream",
     "text": [
      "100%|██████████| 20/20 [01:02<00:00,  3.13s/it]\n"
     ]
    },
    {
     "name": "stdout",
     "output_type": "stream",
     "text": [
      "PF\n"
     ]
    },
    {
     "name": "stderr",
     "output_type": "stream",
     "text": [
      "100%|██████████| 20/20 [00:32<00:00,  1.60s/it]\n"
     ]
    },
    {
     "name": "stdout",
     "output_type": "stream",
     "text": [
      "Done\n",
      "RMSE\n",
      "{'EKF': Array(10.4698, dtype=float32),\n",
      " 'EnKF': Array(9.8552, dtype=float32),\n",
      " 'EnKFI': Array(9.6644, dtype=float32),\n",
      " 'EnKFS': Array(17.752, dtype=float32),\n",
      " 'HubEnKF': Array(8.2927, dtype=float32),\n",
      " 'PF': Array(20.9228, dtype=float32)}\n",
      "Time\n",
      "{'EKF': np.float64(3.31871634721756),\n",
      " 'EnKF': np.float64(16.233397603034973),\n",
      " 'EnKFI': np.float64(13.690877616405489),\n",
      " 'EnKFS': np.float64(15.6501869559288),\n",
      " 'HubEnKF': np.float64(18.13212239742279),\n",
      " 'PF': np.float64(8.008211016654968)}\n"
     ]
    }
   ],
   "source": [
    "print('System', model_name)\n",
    "print('corrupted', corrupted)\n",
    "print('f_inacc', f_inacc)\n",
    "methods = ['EKF', 'EnKF', 'EnKFI', 'HubEnKF', 'EnKFS', 'PF']\n",
    "# methods = ['EnKFS']\n",
    "if corrupted:\n",
    "    yv_test = yv_corrupted[int(M * 0.8):]\n",
    "else:\n",
    "    yv_test = yv[int(M * 0.8):]\n",
    "statev_test = statev[int(M * 0.8):]\n",
    "_, _, _ = run_filtering(methods, yv_test, statev_test, key_eval, ff, hh, num_particle=1000)"
   ]
  },
  {
   "cell_type": "code",
   "execution_count": 22,
   "metadata": {},
   "outputs": [
    {
     "ename": "NameError",
     "evalue": "name 'rk4' is not defined",
     "output_type": "error",
     "traceback": [
      "\u001b[0;31m---------------------------------------------------------------------------\u001b[0m",
      "\u001b[0;31mNameError\u001b[0m                                 Traceback (most recent call last)",
      "Cell \u001b[0;32mIn[22], line 15\u001b[0m\n\u001b[1;32m     13\u001b[0m xs1 \u001b[38;5;241m=\u001b[39m xs1\u001b[38;5;241m.\u001b[39mat[\u001b[38;5;241m0\u001b[39m]\u001b[38;5;241m.\u001b[39mset(x0)\n\u001b[1;32m     14\u001b[0m fpart \u001b[38;5;241m=\u001b[39m partial(f, D\u001b[38;5;241m=\u001b[39mD)\n\u001b[0;32m---> 15\u001b[0m xs1 \u001b[38;5;241m=\u001b[39m \u001b[43mrk4\u001b[49m(xs1, dt, N, fpart)\n\u001b[1;32m     16\u001b[0m ys1 \u001b[38;5;241m=\u001b[39m xs1 \u001b[38;5;241m+\u001b[39m jax\u001b[38;5;241m.\u001b[39mrandom\u001b[38;5;241m.\u001b[39mnormal(key_measurement, xs1\u001b[38;5;241m.\u001b[39mshape)\n\u001b[1;32m     17\u001b[0m ys1_corrupted \u001b[38;5;241m=\u001b[39m ys1\u001b[38;5;241m.\u001b[39mcopy()\n",
      "\u001b[0;31mNameError\u001b[0m: name 'rk4' is not defined"
     ]
    }
   ],
   "source": [
    "n_mc = 100\n",
    "N = 200\n",
    "dt = 0.01\n",
    "p_err = 0.01\n",
    "xs_mc = []\n",
    "ys_mc = []\n",
    "ys_corrupted_mc = []\n",
    "key_obs, key_mc = jax.random.split(key_obs)\n",
    "for i in range(n_mc):\n",
    "    key_mc, subkey = jax.random.split(key_mc)  # 生成新的子随机数生成器\n",
    "    x0 = jax.random.normal(key_mc, (D,)) + F\n",
    "    xs1 = jnp.zeros((N,) + x0.shape)\n",
    "    xs1 = xs1.at[0].set(x0)\n",
    "    fpart = partial(f, D=D)\n",
    "    xs1 = rk4(xs1, dt, N, fpart)\n",
    "    ys1 = xs1 + jax.random.normal(key_measurement, xs1.shape)\n",
    "    ys1_corrupted = ys1.copy()\n",
    "    if corrupted:\n",
    "        errs_map = jax.random.bernoulli(key_init, p=p_err, shape=ys1_corrupted.shape)\n",
    "        ys1_corrupted = ys1_corrupted * (~errs_map) + 100.0 * errs_map\n",
    "        err_where = np.where(errs_map)\n",
    "    xs_mc.append(xs1)\n",
    "    ys_mc.append(ys1)\n",
    "    ys_corrupted_mc.append(ys1_corrupted)\n",
    "statev = jnp.array(xs_mc)\n",
    "yv = jnp.array(ys_mc)\n",
    "yv_corrupted = jnp.array(ys_corrupted_mc)\n",
    "print(statev.shape)\n",
    "print(yv.shape)\n",
    "print(yv_corrupted.shape)"
   ]
  },
  {
   "cell_type": "code",
   "execution_count": 7,
   "metadata": {},
   "outputs": [
    {
     "name": "stdout",
     "output_type": "stream",
     "text": [
      "(20000, 72) (20000, 72)\n"
     ]
    }
   ],
   "source": [
    "ys = yv.reshape(-1, D)\n",
    "ys_corrupted = yv_corrupted.reshape(-1, D)\n",
    "xs = statev.reshape(-1, D)\n",
    "print(xs.shape,ys.shape)"
   ]
  },
  {
   "cell_type": "code",
   "execution_count": 8,
   "metadata": {},
   "outputs": [
    {
     "name": "stdout",
     "output_type": "stream",
     "text": [
      "                 date        x_1        x_2       x_3        x_4        x_5  \\\n",
      "0 2024-06-22 13:00:00   9.930324  10.413463  9.601624  11.190229  10.475810   \n",
      "1 2024-06-22 13:00:01  10.026490  10.512879  9.690468  11.293329  10.577833   \n",
      "2 2024-06-22 13:00:02  10.122657  10.612296  9.779312  11.396429  10.679856   \n",
      "3 2024-06-22 13:00:03  10.218823  10.711713  9.868156  11.499529  10.781879   \n",
      "4 2024-06-22 13:00:04  10.314990  10.811130  9.957001  11.602629  10.883903   \n",
      "\n",
      "        x_6        x_7        x_8       x_9  ...       x_63       x_64  \\\n",
      "0  9.100482   9.611787  10.599230  7.906620  ...  10.527282  10.186784   \n",
      "1  9.216859   9.716647  10.709743  8.002557  ...  10.633910  10.273329   \n",
      "2  9.333236   9.821507  10.820255  8.098494  ...  10.740539  10.359874   \n",
      "3  9.449613   9.926368  10.930768  8.194430  ...  10.847167  10.446419   \n",
      "4  9.565989  10.031228  11.041281  8.290367  ...  10.953795  10.532964   \n",
      "\n",
      "        x_65       x_66      x_67      x_68      x_69       x_70       x_71  \\\n",
      "0  10.320616  11.249006  9.422155  9.193910  9.278043   9.622202  10.436687   \n",
      "1  10.424478  11.360891  9.527503  9.280505  9.364083   9.730084  10.543229   \n",
      "2  10.528339  11.472776  9.632851  9.367101  9.450124   9.837967  10.649771   \n",
      "3  10.632201  11.584661  9.738198  9.453696  9.536164   9.945849  10.756312   \n",
      "4  10.736063  11.696547  9.843546  9.540292  9.622205  10.053732  10.862854   \n",
      "\n",
      "       x_72  \n",
      "0  8.488380  \n",
      "1  8.584989  \n",
      "2  8.681597  \n",
      "3  8.778205  \n",
      "4  8.874813  \n",
      "\n",
      "[5 rows x 73 columns]\n"
     ]
    }
   ],
   "source": [
    "# 生成时间序列\n",
    "start_time = datetime(2024, 6, 22, 13, 0, 0)\n",
    "time_interval = timedelta(seconds=1)\n",
    "time_series = [start_time + i * time_interval for i in range(xs.shape[0])]\n",
    "\n",
    "# 创建 DataFrame\n",
    "column_names = [f'x_{i}' for i in range(1, xs.shape[1] + 1)]\n",
    "df = pd.DataFrame(xs, columns=column_names)\n",
    "df.insert(0, 'date', time_series)\n",
    "\n",
    "print(df.head())"
   ]
  },
  {
   "cell_type": "code",
   "execution_count": 9,
   "metadata": {},
   "outputs": [],
   "source": [
    "if save_flag:\n",
    "    # # 保存为 CSV 文件\n",
    "    csv_path = save_dir + model_name + '.csv'\n",
    "    df.to_csv(csv_path, index=False)\n",
    "    # 创建 DataFrame\n",
    "    column_names = [f'y_{i}' for i in range(1, ys.shape[1] + 1)]\n",
    "    dfy = pd.DataFrame(ys, columns=column_names)\n",
    "    dfy.insert(0, 'date', time_series)\n",
    "\n",
    "    print(dfy.head())\n",
    "    csv_path = save_dir + model_name + '_obs.csv'\n",
    "    dfy.to_csv(csv_path, index=False)\n",
    "\n",
    "    if corrupted:\n",
    "        column_names = [f'y_{i}' for i in range(1, ys_corrupted.shape[1] + 1)]\n",
    "        dfy = pd.DataFrame(ys_corrupted, columns=column_names)\n",
    "        dfy.insert(0, 'date', time_series)\n",
    "\n",
    "        print(dfy.head())\n",
    "        csv_path = save_dir + model_name + '_obs_corrupted.csv'\n",
    "        dfy.to_csv(csv_path, index=False)"
   ]
  },
  {
   "cell_type": "code",
   "execution_count": 10,
   "metadata": {},
   "outputs": [],
   "source": [
    "range_time = np.arange(N) * dt\n",
    "np.set_printoptions(precision=4)\n",
    "\n",
    "def callback_fn(particles, particles_pred, y, i):\n",
    "    return jnp.sqrt(jnp.power(particles.mean(axis=0) - xs[i], 2).mean()), particles.mean(axis=0)\n",
    "def latent_fn(x, key, i):\n",
    "    \"\"\"\n",
    "    State function\n",
    "    \"\"\"\n",
    "    err = jax.random.normal(key, (D,))\n",
    "    @jax.jit\n",
    "    def ff(x, t):\n",
    "        return fcoord(x, D) + F + err\n",
    "    \n",
    "    return rk4_step(x, i, dt, ff)\n",
    "\n",
    "def obs_fn(x, key, i):\n",
    "    \"\"\"\n",
    "    Measurement function\n",
    "    \"\"\"\n",
    "    err = jax.random.normal(key, (D,))\n",
    "    return x + err\n",
    "\n",
    "def f_step(x):\n",
    "    return fcoord(x, D) + F\n",
    "\n",
    "def h_step(x, _):\n",
    "    return x\n",
    "\n",
    "def obs_fn(x, key, i):\n",
    "    \"\"\"\n",
    "    Measurement function\n",
    "    \"\"\"\n",
    "    err = jax.random.normal(key, (D,))\n",
    "    return x + err\n",
    "\n",
    "def calculate_mse(errs):\n",
    "    return jnp.mean(jnp.square(errs))\n",
    "def calculate_mae(errs):\n",
    "    return jnp.mean(jnp.abs(errs))\n",
    "\n",
    "def calculate_rmse(errs):\n",
    "    return jnp.sqrt(jnp.mean(jnp.square(errs)))\n",
    "\n",
    "def calculate_test_error(errs):\n",
    "    mse = calculate_mse(errs)\n",
    "    mae = calculate_mae(errs)\n",
    "    rmse = calculate_rmse(errs) \n",
    "    print(f'mse:{mse}, mae:{mae}, rmse:{rmse}')\n",
    "    return mse, mae, rmse\n",
    "M = n_mc\n",
    "ff = f_step\n",
    "hh = h_step"
   ]
  },
  {
   "cell_type": "code",
   "execution_count": 11,
   "metadata": {},
   "outputs": [
    {
     "name": "stdout",
     "output_type": "stream",
     "text": [
      "EKF\n"
     ]
    },
    {
     "name": "stderr",
     "output_type": "stream",
     "text": [
      "  0%|          | 0/20 [00:00<?, ?it/s]"
     ]
    },
    {
     "name": "stderr",
     "output_type": "stream",
     "text": [
      "100%|██████████| 20/20 [00:04<00:00,  4.21it/s]\n"
     ]
    },
    {
     "name": "stdout",
     "output_type": "stream",
     "text": [
      "EnKF\n"
     ]
    },
    {
     "name": "stderr",
     "output_type": "stream",
     "text": [
      "100%|██████████| 20/20 [00:13<00:00,  1.52it/s]\n"
     ]
    },
    {
     "name": "stdout",
     "output_type": "stream",
     "text": [
      "EnKFI\n"
     ]
    },
    {
     "name": "stderr",
     "output_type": "stream",
     "text": [
      "100%|██████████| 20/20 [00:13<00:00,  1.52it/s]\n"
     ]
    },
    {
     "name": "stdout",
     "output_type": "stream",
     "text": [
      "HubEnKF\n"
     ]
    },
    {
     "name": "stderr",
     "output_type": "stream",
     "text": [
      "100%|██████████| 20/20 [00:12<00:00,  1.57it/s]\n"
     ]
    },
    {
     "name": "stdout",
     "output_type": "stream",
     "text": [
      "EnKFS\n"
     ]
    },
    {
     "name": "stderr",
     "output_type": "stream",
     "text": [
      "100%|██████████| 20/20 [00:13<00:00,  1.44it/s]\n"
     ]
    },
    {
     "name": "stdout",
     "output_type": "stream",
     "text": [
      "PF\n"
     ]
    },
    {
     "name": "stderr",
     "output_type": "stream",
     "text": [
      "100%|██████████| 20/20 [00:17<00:00,  1.16it/s]\n"
     ]
    },
    {
     "name": "stdout",
     "output_type": "stream",
     "text": [
      "Done\n",
      "RMSE\n",
      "{'EKF': Array(5.8633, dtype=float32),\n",
      " 'EnKF': Array(nan, dtype=float32),\n",
      " 'EnKFI': Array(1.4246, dtype=float32),\n",
      " 'EnKFS': Array(10.4608, dtype=float32),\n",
      " 'HubEnKF': Array(0.8825, dtype=float32),\n",
      " 'PF': Array(11.6927, dtype=float32)}\n",
      "Time\n",
      "{'EKF': np.float64(1.1888734102249146),\n",
      " 'EnKF': np.float64(3.2847465872764587),\n",
      " 'EnKFI': np.float64(3.2846200466156006),\n",
      " 'EnKFS': np.float64(3.4689825177192692),\n",
      " 'HubEnKF': np.float64(3.1928635835647583),\n",
      " 'PF': np.float64(4.322352588176727)}\n"
     ]
    }
   ],
   "source": [
    "from filtering_methods import run_filtering\n",
    "methods = ['EKF', 'EnKF', 'EnKFI', 'HubEnKF', 'EnKFS', 'PF']\n",
    "if corrupted:\n",
    "    yv_test = yv_corrupted[int(M * 0.8):]\n",
    "else:\n",
    "    yv_test = yv[int(M * 0.8):]\n",
    "statev_test = statev[int(M * 0.8):]\n",
    "parameter_range = (1, 20)\n",
    "_, _, _ = run_filtering(methods, yv_test, statev_test, key_eval, ff, hh, parameter_range, num_particle=100)"
   ]
  },
  {
   "cell_type": "code",
   "execution_count": 12,
   "metadata": {},
   "outputs": [],
   "source": [
    "# y_index = int(0.8 * ys.shape[0])\n",
    "# print(ys.shape)\n",
    "# # 截取最后 20% 的数据\n",
    "# ys = ys[y_index:]\n",
    "# ys_corrupted = ys_corrupted[y_index:]\n",
    "# print(ys.shape)\n",
    "time_methods = {}\n",
    "hist_methods = {}\n",
    "errs_methods = {}"
   ]
  },
  {
   "cell_type": "code",
   "execution_count": 13,
   "metadata": {},
   "outputs": [],
   "source": [
    "def filter_enkf(x0, n_particles, measurements, state, key_eval):\n",
    "    agent = enkf.EnsembleKalmanFilter(latent_fn, obs_fn, n_particles)\n",
    "    key_init_particles, key_scan = jax.random.split(key_eval, 2)\n",
    "    X0 = agent.init_bel(key_init_particles, D)\n",
    "    particles_end, (errs, particles_hist_mean) = agent.scan(X0, key_scan, measurements, callback_fn=callback_fn)\n",
    "    return errs, particles_hist_mean\n",
    "\n",
    "def filter_enkfi(x0, inflation_factor, n_particles, measurements, state, key_eval):\n",
    "    agent = enkf.EnsembleKalmanFilterInflation(latent_fn, obs_fn, n_particles, inflation_factor=inflation_factor)\n",
    "    key_init_particles, key_scan = jax.random.split(key_eval, 2)\n",
    "    X0 = agent.init_bel(key_init_particles, D)\n",
    "    particles_end, (errs, particles_hist_mean) = agent.scan(X0, key_scan, measurements, callback_fn=callback_fn)\n",
    "    return errs, particles_hist_mean\n",
    "\n",
    "def filter_ekf(x0, measurements, state, key_eval):\n",
    "    nsteps = len(measurements)\n",
    "    agent_imq = rkf.ExtendedKalmanFilterIMQ(\n",
    "        f_step, h_step,\n",
    "        dynamics_covariance=jnp.eye(D),\n",
    "        observation_covariance=jnp.eye(D),\n",
    "        soft_threshold=1e8,\n",
    "    )\n",
    "    init_bel = agent_imq.init_bel(x0, cov=1.0)\n",
    "    filterfn = partial(agent_imq.scan, callback_fn=callbacks.get_updated_mean)\n",
    "    _, hist = filterfn(init_bel, measurements, jnp.ones(N))\n",
    "\n",
    "    err = jnp.sqrt(jnp.power(hist - state, 2).sum(axis=0))\n",
    "    return err, hist"
   ]
  },
  {
   "cell_type": "code",
   "execution_count": 14,
   "metadata": {},
   "outputs": [
    {
     "name": "stderr",
     "output_type": "stream",
     "text": [
      " 13%|█▎        | 13/100 [00:13<01:32,  1.06s/it]"
     ]
    },
    {
     "name": "stderr",
     "output_type": "stream",
     "text": [
      "100%|██████████| 100/100 [01:41<00:00,  1.01s/it]\n"
     ]
    },
    {
     "name": "stdout",
     "output_type": "stream",
     "text": [
      "EnKF_1000\n"
     ]
    }
   ],
   "source": [
    "method = 'EnKF_1000'\n",
    "n_particles = 1000\n",
    "hist_bel = []\n",
    "times = []\n",
    "\n",
    "for y, state in tqdm(zip(yv, statev), total=n_mc): \n",
    "    tinit = time()\n",
    "    key_eval, key_scan = jax.random.split(key_eval)\n",
    "    # print(xs[0])\n",
    "    errs, _ = filter_enkf(state[0], n_particles, y, state, key_eval)\n",
    "    tend = time()\n",
    "    \n",
    "    hist_bel.append(errs)\n",
    "    times.append(tend - tinit)\n",
    "\n",
    "errs = np.stack(hist_bel)\n",
    "time_methods[method] = times\n",
    "print(method)\n",
    "errs_test = errs[int(errs.shape[0] * 0.8):]\n",
    "# _, _, errs_methods[method] = calculate_test_error(errs_test)\n",
    "errs_methods[method] = errs_test\n"
   ]
  },
  {
   "cell_type": "code",
   "execution_count": 15,
   "metadata": {},
   "outputs": [
    {
     "name": "stderr",
     "output_type": "stream",
     "text": [
      "  0%|          | 0/100 [00:00<?, ?it/s]"
     ]
    },
    {
     "name": "stderr",
     "output_type": "stream",
     "text": [
      "100%|██████████| 100/100 [01:31<00:00,  1.10it/s]\n"
     ]
    },
    {
     "name": "stdout",
     "output_type": "stream",
     "text": [
      "EnKFI_1000\n",
      "mse:1.9698152542114258, mae:1.3963477611541748, rmse:1.403501033782959\n"
     ]
    }
   ],
   "source": [
    "method = 'EnKFI_1000'\n",
    "n_particles = 1000\n",
    "inflation_factor = 3.0\n",
    "hist_bel = []\n",
    "times = []\n",
    "\n",
    "for y, state in tqdm(zip(yv, statev), total=n_mc): \n",
    "    tinit = time()\n",
    "    key_eval, key_scan = jax.random.split(key_eval)\n",
    "    errs, _ = filter_enkfi(state[0], inflation_factor, n_particles, y, state, key_eval)\n",
    "    tend = time()\n",
    "    \n",
    "    hist_bel.append(errs)\n",
    "    times.append(tend - tinit)\n",
    "\n",
    "errs = np.stack(hist_bel)\n",
    "time_methods[method] = times\n",
    "print(method)\n",
    "errs_test = errs[int(errs.shape[0] * 0.8):]\n",
    "_, _, errs_methods[method] = calculate_test_error(errs_test)"
   ]
  },
  {
   "cell_type": "code",
   "execution_count": 16,
   "metadata": {},
   "outputs": [
    {
     "name": "stdout",
     "output_type": "stream",
     "text": [
      "(100, 200)\n",
      "(20, 200)\n"
     ]
    }
   ],
   "source": [
    "print(errs.shape)\n",
    "print(errs_test.shape)"
   ]
  },
  {
   "cell_type": "code",
   "execution_count": 17,
   "metadata": {},
   "outputs": [
    {
     "name": "stderr",
     "output_type": "stream",
     "text": [
      "  0%|          | 0/100 [00:00<?, ?it/s]"
     ]
    },
    {
     "name": "stderr",
     "output_type": "stream",
     "text": [
      "100%|██████████| 100/100 [00:23<00:00,  4.22it/s]"
     ]
    },
    {
     "name": "stdout",
     "output_type": "stream",
     "text": [
      "EKF\n",
      "mse:6875.650390625, mae:82.53736114501953, rmse:82.91954040527344\n"
     ]
    },
    {
     "name": "stderr",
     "output_type": "stream",
     "text": [
      "\n"
     ]
    }
   ],
   "source": [
    "method = 'EKF'\n",
    "hist_bel = []\n",
    "times = []\n",
    "errs = 0\n",
    "for y, state in tqdm(zip(yv, statev), total=n_mc): \n",
    "    tinit = time()\n",
    "    key_eval, key_scan = jax.random.split(key_eval)\n",
    "    errs, _ = filter_ekf(state[0], y, state, key_eval)\n",
    "    tend = time()\n",
    "    \n",
    "    hist_bel.append(errs)\n",
    "    times.append(tend - tinit)\n",
    "\n",
    "errs = np.stack(hist_bel)\n",
    "time_methods[method] = times\n",
    "print(method)\n",
    "errs_test = errs[int(errs.shape[0] * 0.8):]\n",
    "_, _, errs_methods[method] = calculate_test_error(errs_test)"
   ]
  },
  {
   "cell_type": "code",
   "execution_count": 18,
   "metadata": {},
   "outputs": [
    {
     "name": "stdout",
     "output_type": "stream",
     "text": [
      "(100, 72)\n",
      "(20, 72)\n"
     ]
    }
   ],
   "source": [
    "print(errs.shape)\n",
    "print(errs_test.shape)"
   ]
  },
  {
   "cell_type": "code",
   "execution_count": 19,
   "metadata": {},
   "outputs": [
    {
     "name": "stdout",
     "output_type": "stream",
     "text": [
      "{'EnKF_1000': array([[5.2713, 3.8535, 3.0845, ..., 1.7313, 1.7358, 1.7356],\n",
      "       [5.4065, 3.9168, 3.2378, ..., 1.7031, 1.7095, 1.7097],\n",
      "       [5.3494, 3.8693, 3.1638, ..., 1.8859, 1.8882, 1.8908],\n",
      "       ...,\n",
      "       [5.7314, 4.0663, 3.2847, ..., 1.7853, 1.7857, 1.7888],\n",
      "       [5.4255, 3.7086, 2.9593, ..., 1.7975, 1.8038, 1.8037],\n",
      "       [5.2083, 3.801 , 3.117 , ..., 1.5761, 1.5803, 1.5796]],\n",
      "      dtype=float32), 'EnKFI_1000': Array(1.4035, dtype=float32), 'EKF': Array(82.9195, dtype=float32)}\n"
     ]
    }
   ],
   "source": [
    "print(errs_methods)"
   ]
  },
  {
   "cell_type": "code",
   "execution_count": 20,
   "metadata": {},
   "outputs": [],
   "source": [
    "# # 将 JAX 数组转换为 Python 的 float 类型\n",
    "# def convert_jax_to_python(dictionary):\n",
    "#     return {key: float(value) for key, value in dictionary.items()}\n",
    "\n",
    "# # 转换字典\n",
    "# converted_errs_methods = {method: convert_jax_to_python(metrics) for method, metrics in errs_methods.items()}\n",
    "\n",
    "# for keys, values in converted_errs_methods.items():\n",
    "#     print(keys, values)\n"
   ]
  }
 ],
 "metadata": {
  "kernelspec": {
   "display_name": "jax",
   "language": "python",
   "name": "python3"
  },
  "language_info": {
   "codemirror_mode": {
    "name": "ipython",
    "version": 3
   },
   "file_extension": ".py",
   "mimetype": "text/x-python",
   "name": "python",
   "nbconvert_exporter": "python",
   "pygments_lexer": "ipython3",
   "version": "3.10.15"
  }
 },
 "nbformat": 4,
 "nbformat_minor": 2
}
