{
 "cells": [
  {
   "cell_type": "code",
   "execution_count": 1,
   "metadata": {},
   "outputs": [],
   "source": [
    "from time import time\n",
    "import jax\n",
    "import numpy as np\n",
    "import pandas as pd\n",
    "import seaborn as sns\n",
    "import jax.numpy as jnp\n",
    "import matplotlib.pyplot as plt\n",
    "from functools import partial\n",
    "from datetime import datetime, timedelta\n",
    "import ensemble_kalman_filter as enkf\n",
    "from tqdm import tqdm\n",
    "from bayes_opt import BayesianOptimization\n",
    "from rebayes_mini.methods import robust_filter as rkf\n",
    "from rebayes_mini import callbacks\n",
    "import os\n",
    "sin = jnp.sin\n",
    "cos = jnp.cos"
   ]
  },
  {
   "cell_type": "code",
   "execution_count": 2,
   "metadata": {},
   "outputs": [],
   "source": [
    "%load_ext autoreload\n",
    "%autoreload 2\n",
    "%config InlineBackend.figure_format = \"retina\"\n",
    "plt.style.use(\"default\")\n",
    "plt.rcParams[\"font.size\"] = 18"
   ]
  },
  {
   "cell_type": "code",
   "execution_count": 3,
   "metadata": {},
   "outputs": [],
   "source": [
    "M = 100\n",
    "N = 200\n",
    "dt = 0.01\n",
    "dim_state = 3\n",
    "dim_obs = 3\n",
    "# parameters\n",
    "sigma = 10.0\n",
    "beta = 8.0 / 3.0\n",
    "rho = 28.0\n",
    "model_name = 'lorenz63'\n",
    "save_flag = False\n",
    "save_dir ='../dataset/'+ model_name +'/'\n",
    "corrupted = False\n",
    "f_inacc = False\n",
    "ALPHA=2.0\n",
    "BETA=2.0\n",
    "if not os.path.exists(save_dir):\n",
    "    os.makedirs(save_dir)"
   ]
  },
  {
   "cell_type": "code",
   "execution_count": 4,
   "metadata": {},
   "outputs": [],
   "source": [
    "def rk4_step(y, i, dt, f):\n",
    "    h = dt\n",
    "    t = dt * i\n",
    "    k1 = h * f(y, t)\n",
    "    k2 = h * f(y + k1 / 2, dt * i + h / 2)\n",
    "    k3 = h * f(y + k2 / 2, t + h / 2)\n",
    "    k4 = h * f(y + k3, t + h)\n",
    "\n",
    "    y_next = y + 1 / 6 * (k1 + 2 * k2 + 2 * k3 + k4)\n",
    "    return y_next\n",
    "\n",
    "    \n",
    "\n",
    "@partial(jax.jit, static_argnames=(\"f\",))\n",
    "def rk4(ys, dt, N, f):\n",
    "    \"\"\"\n",
    "    Based on\n",
    "    https://colab.research.google.com\n",
    "    github/google/jax/blob/master/cloud_tpu_colabs/Lorentz_ODE_Solver\n",
    "    \"\"\"\n",
    "    @jax.jit\n",
    "    def step(i, ys):\n",
    "        ysi = rk4_step(ys[i - 1], i, dt, f)\n",
    "        return ys.at[i].set(ysi)\n",
    "    return jax.lax.fori_loop(1, N, step, ys)"
   ]
  },
  {
   "cell_type": "code",
   "execution_count": 5,
   "metadata": {},
   "outputs": [
    {
     "name": "stderr",
     "output_type": "stream",
     "text": [
      "An NVIDIA GPU may be present on this machine, but a CUDA-enabled jaxlib is not installed. Falling back to cpu.\n"
     ]
    }
   ],
   "source": [
    "\n",
    "key = jax.random.PRNGKey(31415)\n",
    "key_init, key_sim, key_eval, key_obs = jax.random.split(key, 4)\n",
    "key_state, key_measurement = jax.random.split(key_sim)\n",
    "    \n",
    "# Initial condition: th1, w1, th2, w2\n",
    "X0 = jnp.radians(jnp.array([-8.0, 7.0, 27.0]))\n",
    "mu0, cov0 = X0, jnp.eye(dim_state) * 0.1**2\n",
    "x0 = jax.random.multivariate_normal(key_init, mean=mu0, cov=cov0)\n",
    "\n",
    "def fcoord(x, t):\n",
    "    x_dot = sigma * (x[..., 1] - x[..., 0])\n",
    "    y_dot = x[..., 0] * (rho - x[..., 2]) - x[..., 1]\n",
    "    z_dot = x[..., 0] * x[..., 1] - beta * x[..., 2]\n",
    "\n",
    "    dx = jnp.stack([x_dot, y_dot, z_dot], axis=-1)\n",
    "    return dx\n",
    "\n",
    "def f(x, t, D, *args):\n",
    "    keyt = jax.random.fold_in(key_state, t)\n",
    "    err = jax.random.normal(keyt, shape=(D,))\n",
    "    xdot = fcoord(x, t) + err\n",
    "    return xdot\n",
    "\n",
    "def fC(x, t, D, *args):\n",
    "    keyt = jax.random.fold_in(key_state, t)\n",
    "    err = jax.random.normal(keyt, shape=(D,))\n",
    "    key_a, key_b = jax.random.split(keyt)\n",
    "    dx_mod = fcoord(x, t) + err\n",
    "    a = jax.random.uniform(key_a, x.shape, minval=-ALPHA, maxval=ALPHA)\n",
    "    b = jax.random.uniform(key_b, x.shape, minval=-BETA, maxval=BETA)\n",
    "    \n",
    "    # 应用调整，注意这里的 dx_mod 是不可变的操作\n",
    "    dx_mod = dx_mod.at[0].set(dx_mod[0] - a[0] * x[1] + b[0])\n",
    "    return dx_mod\n",
    "\n",
    "H = jnp.array([[1, 0, 0],\n",
    "               [0, 1, 0],\n",
    "               [0, 0, 1],\n",
    "                ])\n",
    "def hcoord(x, t):\n",
    "    return H @ x\n",
    "\n",
    "def h(x, t, D, *args):\n",
    "    keyt = jax.random.fold_in(key_measurement, t)\n",
    "    err = jax.random.normal(keyt, shape=(D,))\n",
    "    ydot = hcoord(x, t) + err\n",
    "    return ydot\n",
    "\n",
    "# @partial(jax.jit, static_argnames=(\"h\",))\n",
    "def h_step(ys, dt, N, h):\n",
    "    yss = jnp.zeros((N, dim_obs))\n",
    "    # @jax.jit\n",
    "    def step(i, carry):\n",
    "        yss, ys = carry\n",
    "        ysi = h(ys[i - 1], dt * i)\n",
    "        yss = yss.at[i].set(ysi)\n",
    "        return (yss, ys)\n",
    "\n",
    "    yss, ys = jax.lax.fori_loop(1, N, step, (yss, ys))\n",
    "    return yss\n"
   ]
  },
  {
   "cell_type": "code",
   "execution_count": 6,
   "metadata": {},
   "outputs": [
    {
     "name": "stdout",
     "output_type": "stream",
     "text": [
      "(100, 200, 3)\n",
      "(100, 200, 3)\n",
      "(100, 200, 3)\n"
     ]
    }
   ],
   "source": [
    "\n",
    "dt = 0.01\n",
    "p_err = 0.01\n",
    "xs_mc = []\n",
    "ys_mc = []\n",
    "ys_corrupted_mc = []\n",
    "key_obs, key_mc = jax.random.split(key_obs)\n",
    "for i in range(M):\n",
    "    key_mc, subkey = jax.random.split(key_mc)  # 生成新的子随机数生成器\n",
    "    x0 = jax.random.multivariate_normal(key_init, mean=mu0, cov=cov0)\n",
    "    xs1 = jnp.zeros((N,) + x0.shape)\n",
    "    xs1 = xs1.at[0].set(x0)\n",
    "    if f_inacc:\n",
    "        fpart = partial(fC, D=dim_state)\n",
    "    else:\n",
    "        fpart = partial(f, D=dim_state)\n",
    "    xs1 = rk4(xs1, dt, N, fpart)\n",
    "    hpart = partial(h, D=dim_obs)\n",
    "    ys1 = h_step(xs1, dt, N, hpart)   \n",
    "    ys1_corrupted = ys1.copy()\n",
    "    if corrupted:\n",
    "        errs_map = jax.random.bernoulli(key_init, p=p_err, shape=ys1_corrupted.shape)\n",
    "        ys1_corrupted = ys1_corrupted * (~errs_map) + 100.0 * errs_map\n",
    "        err_where = np.where(errs_map)\n",
    "    xs_mc.append(xs1)\n",
    "    ys_mc.append(ys1)\n",
    "    ys_corrupted_mc.append(ys1_corrupted)\n",
    "statev = jnp.array(xs_mc)\n",
    "yv = jnp.array(ys_mc)\n",
    "yv_corrupted = jnp.array(ys_corrupted_mc)\n",
    "print(statev.shape)\n",
    "print(yv.shape)\n",
    "print(yv_corrupted.shape)"
   ]
  },
  {
   "cell_type": "code",
   "execution_count": 7,
   "metadata": {},
   "outputs": [
    {
     "name": "stdout",
     "output_type": "stream",
     "text": [
      "(20000, 3) (20000, 3)\n"
     ]
    }
   ],
   "source": [
    "ys = yv.reshape(-1, dim_obs)\n",
    "ys_corrupted = yv_corrupted.reshape(-1, dim_obs)\n",
    "xs = statev.reshape(-1, dim_state)\n",
    "print(xs.shape,ys.shape)"
   ]
  },
  {
   "cell_type": "code",
   "execution_count": 8,
   "metadata": {},
   "outputs": [
    {
     "name": "stdout",
     "output_type": "stream",
     "text": [
      "                 date       x_1       x_2       x_3\n",
      "0 2024-07-02 13:00:00 -0.171118  0.106694  0.384818\n",
      "1 2024-07-02 13:00:01 -0.140380  0.078005  0.397646\n",
      "2 2024-07-02 13:00:02 -0.114898  0.057307  0.410193\n",
      "3 2024-07-02 13:00:03 -0.093480  0.043242  0.422442\n",
      "4 2024-07-02 13:00:04 -0.075161  0.034759  0.434389\n"
     ]
    }
   ],
   "source": [
    "\n",
    "# 生成时间序列\n",
    "start_time = datetime(2024, 7, 2, 13, 0, 0)\n",
    "time_interval = timedelta(seconds=1)\n",
    "time_series = [start_time + i * time_interval for i in range(xs.shape[0])]\n",
    "\n",
    "# 创建 DataFrame\n",
    "column_names = [f'x_{i}' for i in range(1, xs.shape[1] + 1)]\n",
    "df = pd.DataFrame(xs, columns=column_names)\n",
    "df.insert(0, 'date', time_series)\n",
    "\n",
    "print(df.head())"
   ]
  },
  {
   "cell_type": "code",
   "execution_count": 9,
   "metadata": {},
   "outputs": [],
   "source": [
    "if save_flag:\n",
    "    # # 保存为 CSV 文件\n",
    "    csv_path = save_dir + model_name + '.csv'\n",
    "    df.to_csv(csv_path, index=False)\n",
    "    # 创建 DataFrame\n",
    "    column_names = [f'y_{i}' for i in range(1, ys.shape[1] + 1)]\n",
    "    dfy = pd.DataFrame(ys, columns=column_names)\n",
    "    dfy.insert(0, 'date', time_series)\n",
    "\n",
    "    print(dfy.head())\n",
    "    csv_path = save_dir + model_name + '_obs.csv'\n",
    "    dfy.to_csv(csv_path, index=False)\n",
    "\n",
    "    if corrupted:\n",
    "        column_names = [f'y_{i}' for i in range(1, ys_corrupted.shape[1] + 1)]\n",
    "        dfy = pd.DataFrame(ys_corrupted, columns=column_names)\n",
    "        dfy.insert(0, 'date', time_series)\n",
    "\n",
    "        print(dfy.head())\n",
    "        csv_path = save_dir + model_name + '_obs_corrupted.csv'\n",
    "        dfy.to_csv(csv_path, index=False)"
   ]
  },
  {
   "cell_type": "code",
   "execution_count": 10,
   "metadata": {},
   "outputs": [],
   "source": [
    "range_time = np.arange(N) * dt\n",
    "np.set_printoptions(precision=4)\n",
    "\n",
    "def callback_fn(particles, particles_pred, y, i):\n",
    "    return jnp.sqrt(jnp.power(particles.mean(axis=0) - xs[i], 2).mean()), particles.mean(axis=0)\n",
    "\n",
    "def latent_fn(x, key, i):\n",
    "    \"\"\"\n",
    "    State function\n",
    "    \"\"\"\n",
    "    err = jax.random.normal(key, (dim_state,))\n",
    "    @jax.jit\n",
    "    def f(x, t):\n",
    "        return fcoord(x, t)  + err\n",
    "    \n",
    "    return rk4_step(x, i, dt, f)\n",
    "\n",
    "def ff(x):\n",
    "    return fcoord(x, dt)\n",
    "\n",
    "def hh(x, t):\n",
    "    return H @ x\n",
    "\n",
    "def obs_fn(x, key, i):\n",
    "    \"\"\"\n",
    "    Measurement function\n",
    "    \"\"\"\n",
    "    err = jax.random.normal(key, (dim_obs,))\n",
    "    return hh(x, dt) + err\n",
    "\n",
    "def calculate_mse(errs):\n",
    "    return jnp.mean(jnp.square(errs))\n",
    "def calculate_mae(errs):\n",
    "    return jnp.mean(jnp.abs(errs))\n",
    "\n",
    "def calculate_rmse(errs):\n",
    "    return jnp.sqrt(jnp.mean(jnp.square(errs)))\n",
    "\n",
    "def calculate_test_error(errs):\n",
    "    mse = calculate_mse(errs)\n",
    "    mae = calculate_mae(errs)\n",
    "    rmse = calculate_rmse(errs) \n",
    "    print(f'mse:{mse}, mae:{mae}, rmse:{rmse}')\n",
    "    return mse, mae, rmse\n"
   ]
  },
  {
   "cell_type": "code",
   "execution_count": 11,
   "metadata": {},
   "outputs": [
    {
     "name": "stdout",
     "output_type": "stream",
     "text": [
      "System lorenz63\n",
      "corrupted False\n",
      "f_inacc False\n",
      "PF\n"
     ]
    },
    {
     "name": "stderr",
     "output_type": "stream",
     "text": [
      "100%|██████████| 20/20 [06:04<00:00, 18.20s/it]\n"
     ]
    },
    {
     "name": "stdout",
     "output_type": "stream",
     "text": [
      "Done\n",
      "RMSE\n",
      "{'PF': Array(nan, dtype=float32)}\n",
      "Time\n",
      "{'PF': np.float64(91.0041116476059)}\n"
     ]
    }
   ],
   "source": [
    "from filtering_methods import run_filtering\n",
    "print('System', model_name)\n",
    "print('corrupted', corrupted)\n",
    "print('f_inacc', f_inacc)\n",
    "# methods = ['EKF', 'EnKF', 'EnKFI', 'HubEnKF', 'EnKFS']\n",
    "methods = ['PF']\n",
    "if corrupted:\n",
    "    yv_test = yv_corrupted[int(M * 0.8):]\n",
    "else:\n",
    "    yv_test = yv[int(M * 0.8):]\n",
    "statev_test = statev[int(M * 0.8):]\n",
    "parameter_range = (10,30)\n",
    "_, _, _ = run_filtering(methods, yv_test, statev_test, key_eval, ff, hh, parameter_range, num_particle=1000)"
   ]
  }
 ],
 "metadata": {
  "kernelspec": {
   "display_name": "jax",
   "language": "python",
   "name": "python3"
  },
  "language_info": {
   "codemirror_mode": {
    "name": "ipython",
    "version": 3
   },
   "file_extension": ".py",
   "mimetype": "text/x-python",
   "name": "python",
   "nbconvert_exporter": "python",
   "pygments_lexer": "ipython3",
   "version": "3.10.15"
  }
 },
 "nbformat": 4,
 "nbformat_minor": 2
}
