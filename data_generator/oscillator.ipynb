{
 "cells": [
  {
   "cell_type": "code",
   "execution_count": 6,
   "metadata": {},
   "outputs": [],
   "source": [
    "from time import time\n",
    "import jax\n",
    "import numpy as np\n",
    "import pandas as pd\n",
    "import seaborn as sns\n",
    "import jax.numpy as jnp\n",
    "import matplotlib.pyplot as plt\n",
    "from functools import partial\n",
    "from datetime import datetime, timedelta\n",
    "import ensemble_kalman_filter as enkf\n",
    "from tqdm import tqdm\n",
    "from bayes_opt import BayesianOptimization\n",
    "from rebayes_mini.methods import robust_filter as rkf\n",
    "from rebayes_mini import callbacks\n",
    "import os\n",
    "sin = jnp.sin\n",
    "cos = jnp.cos"
   ]
  },
  {
   "cell_type": "code",
   "execution_count": 7,
   "metadata": {},
   "outputs": [
    {
     "name": "stdout",
     "output_type": "stream",
     "text": [
      "The autoreload extension is already loaded. To reload it, use:\n",
      "  %reload_ext autoreload\n"
     ]
    }
   ],
   "source": [
    "%load_ext autoreload\n",
    "%autoreload 2\n",
    "%config InlineBackend.figure_format = \"retina\"\n",
    "plt.style.use(\"default\")\n",
    "plt.rcParams[\"font.size\"] = 18"
   ]
  },
  {
   "cell_type": "code",
   "execution_count": 8,
   "metadata": {},
   "outputs": [],
   "source": [
    "# Simulation Parameters\n",
    "M = 100  # Number of Monte Carlo samples\n",
    "N = 200  # Number of time steps\n",
    "dt = 0.01  # Time step size\n",
    "dim_state = 2  # Dimensionality of the state variables\n",
    "dim_obs = 2  # Dimensionality of the observation variables\n",
    "mu = 0.5  # Model parameter (not used in this specific oscillator)\n",
    "omega = 1.0  # Oscillator frequency (not used directly here)\n",
    "A = 1.0  # Oscillator amplitude factor (not used directly here)\n",
    "s_var = 1.0  # Variance for state noise\n",
    "o_var = np.sqrt(1.0)  # Standard deviation for observation noise\n",
    "model_name = 'oscillator'  # Model name for data saving\n",
    "save_flag = False  # Flag to control saving of results\n",
    "save_dir = '../dataset/' + model_name + '/'  # Directory to save data\n",
    "corrupted = False  # Flag for corrupted observations\n",
    "f_inacc = False  # Flag for inaccurate dynamics\n",
    "ALPHA = 2.0  # Amplitude of perturbations in inaccurate dynamics\n",
    "BETA = 2.0  # Amplitude of bias in inaccurate dynamics\n",
    "\n",
    "# Create save directory if it doesn't exist\n",
    "if not os.path.exists(save_dir):\n",
    "    os.makedirs(save_dir)\n",
    "\n",
    "# Random Key Initialization\n",
    "key = jax.random.PRNGKey(31415)\n",
    "key_init, key_sim, key_eval, key_obs = jax.random.split(key, 4)\n",
    "key_state, key_measurement = jax.random.split(key_sim)\n",
    "\n",
    "# Initial Conditions\n",
    "X0 = jnp.radians(jnp.array([0.0, -1.0]))  # Initial state (angles in radians)\n",
    "mu0, cov0 = X0, jnp.eye(dim_state) * 0.01**2  # Mean and covariance for state initialization\n",
    "x0 = jax.random.multivariate_normal(key_init, mean=mu0, cov=cov0)\n",
    "\n",
    "# Nonlinear Oscillator Dynamics\n",
    "def fcoord(x, t):\n",
    "    \"\"\"\n",
    "    Computes the nonlinear state derivatives for the oscillator model.\n",
    "    - x_dot: Derivative of x[0]\n",
    "    - y_dot: Derivative of x[1]\n",
    "    \"\"\"\n",
    "    x_dot = -0.1 * x[..., 0] ** 3 + 2 * x[..., 1] ** 3\n",
    "    y_dot = -2 * x[..., 0] ** 3 - 0.1 * x[..., 1] ** 3\n",
    "    dx = jnp.stack([x_dot, y_dot])\n",
    "    return dx\n",
    "\n",
    "# Accurate State Transition Function\n",
    "def f(x, t, D, kain_var=1, *args):\n",
    "    \"\"\"\n",
    "    Accurate state transition function with Gaussian noise.\n",
    "    - x: Current state\n",
    "    - t: Current time step\n",
    "    - D: Dimensionality of noise\n",
    "    - kain_var: Noise scaling factor\n",
    "    \"\"\"\n",
    "    keyt = jax.random.fold_in(key_state, t)\n",
    "    err = jax.random.normal(keyt, shape=(D,))\n",
    "    xdot = fcoord(x, t) + kain_var * err\n",
    "    return xdot\n",
    "\n",
    "# Inaccurate State Transition Function\n",
    "def fC(x, t, D, kain_var=1, *args):\n",
    "    \"\"\"\n",
    "    Inaccurate state transition function with random perturbations.\n",
    "    - Adds adjustable bias and scaling to the dynamics.\n",
    "    \"\"\"\n",
    "    keyt = jax.random.fold_in(key_state, t)\n",
    "    err = jax.random.normal(keyt, shape=(D,))\n",
    "    key_a, key_b = jax.random.split(keyt)\n",
    "    dx_mod = fcoord(x, t) + kain_var * err\n",
    "    a = jax.random.uniform(key_a, x.shape, minval=-ALPHA, maxval=ALPHA)\n",
    "    b = jax.random.uniform(key_b, x.shape, minval=-BETA, maxval=BETA)\n",
    "\n",
    "    # Apply adjustments\n",
    "    dx_mod = dx_mod.at[0].set(dx_mod[0] - a[0] * x[1] + b[0])\n",
    "    return dx_mod\n",
    "\n",
    "# Observation Matrix (Identity Mapping)\n",
    "H = jnp.array([[1, 0], [0, 1]])\n",
    "\n",
    "# Linear Observation Function\n",
    "def hcoord(x, t):\n",
    "    \"\"\"\n",
    "    Computes the linear observation from the state.\n",
    "    - x: State vector\n",
    "    - t: Time (unused here, for consistency)\n",
    "    \"\"\"\n",
    "    return H @ x\n",
    "\n",
    "# Observation Function with Noise\n",
    "def h(x, t, D, kain_var=1, *args):\n",
    "    \"\"\"\n",
    "    Adds Gaussian noise to the observation.\n",
    "    - x: State vector\n",
    "    - t: Current time step\n",
    "    - D: Dimensionality of noise\n",
    "    - kain_var: Noise scaling factor\n",
    "    \"\"\"\n",
    "    keyt = jax.random.fold_in(key_measurement, t)\n",
    "    err = jax.random.normal(keyt, shape=(D,))\n",
    "    ydot = hcoord(x, t) + kain_var * err\n",
    "    return ydot\n",
    "\n",
    "# Compute Observations Over Time\n",
    "def h_step(ys, dt, N, h):\n",
    "    \"\"\"\n",
    "    Computes the observation sequence over N time steps.\n",
    "    - ys: Initial observations\n",
    "    - dt: Time step size\n",
    "    - N: Number of time steps\n",
    "    - h: Observation function\n",
    "    \"\"\"\n",
    "    yss = jnp.zeros((N, dim_obs))\n",
    "\n",
    "    def step(i, carry):\n",
    "        yss, ys = carry\n",
    "        ysi = h(ys[i - 1], dt * i)\n",
    "        yss = yss.at[i].set(ysi)\n",
    "        return (yss, ys)\n",
    "\n",
    "    yss, ys = jax.lax.fori_loop(1, N, step, (yss, ys))\n",
    "    return yss\n",
    "\n",
    "# Helper Functions\n",
    "def ff(x):\n",
    "    \"\"\"Wrapper for state dynamics.\"\"\"\n",
    "    return fcoord(x, dt)\n",
    "\n",
    "def hh(x, t):\n",
    "    \"\"\"Wrapper for linear observation function.\"\"\"\n",
    "    return H @ x\n"
   ]
  },
  {
   "cell_type": "code",
   "execution_count": 9,
   "metadata": {},
   "outputs": [],
   "source": [
    "from data_generation import generate_and_save_data, load_data\n",
    "from filtering_methods import run_filtering\n",
    "if save_flag:\n",
    "    statev, yv, yv_corrupted = generate_and_save_data(\n",
    "        M, N, dt, dim_state, dim_obs, mu0, cov0, key_init, key_obs,\n",
    "        f, fC, h, h_step, save_dir, model_name, save_flag, corrupted, f_inacc\n",
    "    )\n",
    "else:\n",
    "    statev, yv, yv_corrupted = load_data(save_dir, model_name, M, N, dim_state, dim_obs, corrupted)"
   ]
  },
  {
   "cell_type": "code",
   "execution_count": 10,
   "metadata": {},
   "outputs": [
    {
     "name": "stdout",
     "output_type": "stream",
     "text": [
      "System oscillator\n",
      "corrupted False\n",
      "f_inacc False\n",
      "EKF\n"
     ]
    },
    {
     "name": "stderr",
     "output_type": "stream",
     "text": [
      "  0%|          | 0/20 [00:00<?, ?it/s]"
     ]
    },
    {
     "name": "stderr",
     "output_type": "stream",
     "text": [
      "100%|██████████| 20/20 [00:04<00:00,  4.66it/s]\n"
     ]
    },
    {
     "name": "stdout",
     "output_type": "stream",
     "text": [
      "EnKF\n"
     ]
    },
    {
     "name": "stderr",
     "output_type": "stream",
     "text": [
      "100%|██████████| 20/20 [00:10<00:00,  1.87it/s]\n"
     ]
    },
    {
     "name": "stdout",
     "output_type": "stream",
     "text": [
      "EnKFI\n"
     ]
    },
    {
     "name": "stderr",
     "output_type": "stream",
     "text": [
      "100%|██████████| 20/20 [00:11<00:00,  1.76it/s]\n"
     ]
    },
    {
     "name": "stdout",
     "output_type": "stream",
     "text": [
      "HubEnKF\n"
     ]
    },
    {
     "name": "stderr",
     "output_type": "stream",
     "text": [
      "100%|██████████| 20/20 [00:10<00:00,  1.92it/s]\n"
     ]
    },
    {
     "name": "stdout",
     "output_type": "stream",
     "text": [
      "EnKFS\n"
     ]
    },
    {
     "name": "stderr",
     "output_type": "stream",
     "text": [
      "100%|██████████| 20/20 [00:10<00:00,  1.97it/s]\n"
     ]
    },
    {
     "name": "stdout",
     "output_type": "stream",
     "text": [
      "PF\n"
     ]
    },
    {
     "name": "stderr",
     "output_type": "stream",
     "text": [
      "100%|██████████| 20/20 [00:10<00:00,  1.90it/s]"
     ]
    },
    {
     "name": "stdout",
     "output_type": "stream",
     "text": [
      "Done\n",
      "RMSE\n",
      "{'EKF': Array(nan, dtype=float32),\n",
      " 'EnKF': Array(0.5541, dtype=float32),\n",
      " 'EnKFI': Array(0.5445, dtype=float32),\n",
      " 'EnKFS': Array(0.5586, dtype=float32),\n",
      " 'HubEnKF': Array(0.544, dtype=float32),\n",
      " 'PF': Array(0.4185, dtype=float32)}\n",
      "Time\n",
      "{'EKF': np.float64(1.0725721120834348),\n",
      " 'EnKF': np.float64(2.671838879585266),\n",
      " 'EnKFI': np.float64(2.8441840410232544),\n",
      " 'EnKFS': np.float64(2.544935822486877),\n",
      " 'HubEnKF': np.float64(2.611142098903656),\n",
      " 'PF': np.float64(2.6319159865379333)}\n"
     ]
    },
    {
     "name": "stderr",
     "output_type": "stream",
     "text": [
      "\n"
     ]
    }
   ],
   "source": [
    "print('System', model_name)\n",
    "print('corrupted', corrupted)\n",
    "print('f_inacc', f_inacc)\n",
    "methods = ['EKF', 'EnKF', 'EnKFI', 'HubEnKF', 'EnKFS', 'PF']\n",
    "# methods = ['EnKFS']\n",
    "if corrupted:\n",
    "    yv_test = yv_corrupted[int(M * 0.8):]\n",
    "else:\n",
    "    yv_test = yv[int(M * 0.8):]\n",
    "statev_test = statev[int(M * 0.8):]\n",
    "_, _, _ = run_filtering(methods, yv_test, statev_test, key_eval, ff, hh, num_particle=1000)"
   ]
  }
 ],
 "metadata": {
  "kernelspec": {
   "display_name": "jax",
   "language": "python",
   "name": "python3"
  },
  "language_info": {
   "codemirror_mode": {
    "name": "ipython",
    "version": 3
   },
   "file_extension": ".py",
   "mimetype": "text/x-python",
   "name": "python",
   "nbconvert_exporter": "python",
   "pygments_lexer": "ipython3",
   "version": "3.10.15"
  }
 },
 "nbformat": 4,
 "nbformat_minor": 2
}
