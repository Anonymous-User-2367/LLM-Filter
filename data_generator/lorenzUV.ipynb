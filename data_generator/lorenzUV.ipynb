{
 "cells": [
  {
   "cell_type": "code",
   "execution_count": 2,
   "metadata": {},
   "outputs": [],
   "source": [
    "from time import time\n",
    "import jax\n",
    "import numpy as np\n",
    "import pandas as pd\n",
    "import seaborn as sns\n",
    "import jax.numpy as jnp\n",
    "import matplotlib.pyplot as plt\n",
    "from functools import partial\n",
    "from datetime import datetime, timedelta\n",
    "import ensemble_kalman_filter as enkf\n",
    "from tqdm import tqdm\n",
    "from bayes_opt import BayesianOptimization\n",
    "from rebayes_mini.methods import robust_filter as rkf\n",
    "from rebayes_mini import callbacks\n",
    "import os"
   ]
  },
  {
   "cell_type": "code",
   "execution_count": 3,
   "metadata": {},
   "outputs": [],
   "source": [
    "%load_ext autoreload\n",
    "%autoreload 2\n",
    "%config InlineBackend.figure_format = \"retina\"\n",
    "plt.style.use(\"default\")\n",
    "plt.rcParams[\"font.size\"] = 18"
   ]
  },
  {
   "cell_type": "code",
   "execution_count": 4,
   "metadata": {},
   "outputs": [],
   "source": [
    "model_name = 'lorenzUV'\n",
    "save_flag = True\n",
    "corrupted = False\n",
    "f_inacc = False\n",
    "ALPHA=2.0\n",
    "BETA=2.0\n",
    "save_dir ='../dataset/'+ model_name +'/'\n",
    "if not os.path.exists(save_dir):\n",
    "    os.makedirs(save_dir)"
   ]
  },
  {
   "cell_type": "code",
   "execution_count": 5,
   "metadata": {},
   "outputs": [],
   "source": [
    "def rk4_step(y, i, dt, f):\n",
    "    h = dt\n",
    "    t = dt * i\n",
    "    k1 = h * f(y, t)\n",
    "    k2 = h * f(y + k1 / 2, dt * i + h / 2)\n",
    "    k3 = h * f(y + k2 / 2, t + h / 2)\n",
    "    k4 = h * f(y + k3, t + h)\n",
    "\n",
    "    y_next = y + 1 / 6 * (k1 + 2 * k2 + 2 * k3 + k4)\n",
    "    return y_next\n",
    "\n",
    "    \n",
    "\n",
    "@partial(jax.jit, static_argnames=(\"f\",))\n",
    "def rk4(ys, dt, N, f):\n",
    "    \"\"\"\n",
    "    Based on\n",
    "    https://colab.research.google.com\n",
    "    github/google/jax/blob/master/cloud_tpu_colabs/Lorentz_ODE_Solver\n",
    "    \"\"\"\n",
    "    @jax.jit\n",
    "    def step(i, ys):\n",
    "        ysi = rk4_step(ys[i - 1], 1, dt, f)\n",
    "        return ys.at[i].set(ysi)\n",
    "    return jax.lax.fori_loop(1, N, step, ys)"
   ]
  },
  {
   "cell_type": "markdown",
   "metadata": {},
   "source": [
    "$$\n",
    "    \\dot{\\bf x}_k = \\Big({\\bf x}_{k+1} - {\\bf x}_{k-2}\\Big) {\\bf x}_{j-1} - {\\bf x}(j) + {F}_k\n",
    "$$\n"
   ]
  },
  {
   "cell_type": "code",
   "execution_count": null,
   "metadata": {},
   "outputs": [
    {
     "name": "stderr",
     "output_type": "stream",
     "text": [
      "An NVIDIA GPU may be present on this machine, but a CUDA-enabled jaxlib is not installed. Falling back to cpu.\n"
     ]
    }
   ],
   "source": [
    "nU=8\n",
    "J=32\n",
    "nV=J*nU\n",
    "F=20\n",
    "h=0.01\n",
    "b=10\n",
    "c=10\n",
    "D = (J+1)*nU \n",
    "iiU = (np.arange(J*nU)/J).astype(int)\n",
    "iiV = np.arange(J*nU)\n",
    "# ixs = jnp.arange(D)\n",
    "\n",
    "key = jax.random.PRNGKey(31415)\n",
    "key_init, key_sim, key_eval, key_obs = jax.random.split(key, 4)\n",
    "\n",
    "key_state, key_measurement = jax.random.split(key_sim)\n",
    "\n",
    "@partial(jax.vmap, in_axes=(None, 0, None))\n",
    "def du_dt(u,iu,nU):\n",
    "    udot = (u[(iu + 1) % nU] - u[iu - 2]) * u[iu - 1] - u[iu]+F\n",
    "    return udot\n",
    "\n",
    "@partial(jax.vmap, in_axes=(None, 0, None))\n",
    "def dv_dt(v,iv,nV):\n",
    "    v=b*jnp.flip(v)\n",
    "    vdot = (v[(iv + 1) % nV] - v[iv - 2]) * v[iv - 1] - v[iv]\n",
    "    vdot*=c/b\n",
    "    vdot=jnp.flip(vdot)\n",
    "    return vdot\n",
    "\n",
    "def f(x, t, D, *args):\n",
    "    u,v=x[..., :nU],x[..., nU:]\n",
    "    ius=jnp.arange(nU)\n",
    "    udot=du_dt(u,ius,nU)\n",
    "    udot+=-h*c/b * v.reshape(v.shape[:-1]+(nU, J)).sum(-1)\n",
    "    ivs=jnp.arange(nV)\n",
    "    vdot=dv_dt(v,ivs,nV)\n",
    "    vdot+= h*c/b * u[..., iiU]\n",
    "    keyt = jax.random.fold_in(key_state, t)\n",
    "    err = jax.random.normal(keyt, shape=(D,))\n",
    "    xdot = jnp.concatenate([udot,vdot]) + err\n",
    "    return xdot\n",
    "\n",
    "def fC(x, t, D, *args):\n",
    "    u,v=x[..., :nU],x[..., nU:]\n",
    "    ius=jnp.arange(nU)\n",
    "    udot=du_dt(u,ius,nU)\n",
    "    udot+=-h*c/b * v.reshape(v.shape[:-1]+(nU, J)).sum(-1)\n",
    "    ivs=jnp.arange(nV)\n",
    "    vdot=dv_dt(v,ivs,nV)\n",
    "    vdot+= h*c/b * u[..., iiU]\n",
    "    keyt = jax.random.fold_in(key_state, t)\n",
    "    err = jax.random.normal(keyt, shape=(D,))\n",
    "    xdot = jnp.concatenate([udot,vdot]) + err\n",
    "    key_a, key_b = jax.random.split(keyt)\n",
    "    a = jax.random.uniform(key_a, x.shape, minval=-ALPHA, maxval=ALPHA)\n",
    "    b = jax.random.uniform(key_b, x.shape, minval=-BETA, maxval=BETA)\n",
    "    # 应用调整，注意这里的 dx_mod 是不可变的操作\n",
    "    xdot = xdot.at[0].set(xdot[0] - a[0] * x[1] + b[0])\n",
    "    return xdot\n",
    "\n",
    "    # ixs = jnp.arange(D)\n",
    "    # xdot = fcoord(x, ixs, D) + F + err\n",
    "    # return xdot\n",
    "\n",
    "# def make_obs_matrix(dim, rank, random_seed):\n",
    "#     \"\"\"\n",
    "#     Generates a random low rank matrix\n",
    "\n",
    "#     Args:\n",
    "#         dim (int): dimension of matrix\n",
    "#         rank (int): rank of matrix\n",
    "#         random_seed (int, optional): random seed of matrix. Defaults to None.\n",
    "\n",
    "#     Returns:\n",
    "#         numpy.ndarray: matrix of rank and dim\n",
    "#     \"\"\"\n",
    "#     # if random_seed is not None:\n",
    "#     #     np.random.seed(random_seed)\n",
    "#     assert dim >= rank, \"rank cannot be greater than dim.\"\n",
    "#     u = np.random.randn(rank, dim, 1)\n",
    "#     return (u @ u.transpose((0, 2, 1))).sum(axis=0) / rank\n",
    "\n",
    "# H = make_obs_matrix(D, D, key_obs)\n",
    "\n",
    "# def hcoord(x, t):\n",
    "#     return H @ x\n",
    "\n",
    "# def h(x, t, D, *args):\n",
    "#     keyt = jax.random.fold_in(key_measurement, t)\n",
    "#     err = jax.random.normal(keyt, shape=(D,))\n",
    "#     ydot = hcoord(x, t) + err\n",
    "#     return ydot\n",
    "\n",
    "# @partial(jax.jit, static_argnames=(\"h\",))\n",
    "# def h_step(ys, dt, N, h):\n",
    "#     @jax.jit\n",
    "#     def step(i, ys):\n",
    "#         ysi = h(ys[i - 1], dt * i)\n",
    "#         return ys.at[i].set(ysi)\n",
    "#     return jax.lax.fori_loop(1, N, step, ys)"
   ]
  },
  {
   "cell_type": "code",
   "execution_count": null,
   "metadata": {},
   "outputs": [
    {
     "name": "stdout",
     "output_type": "stream",
     "text": [
      "(100, 200, 264)\n",
      "(100, 200, 264)\n",
      "(100, 200, 264)\n"
     ]
    }
   ],
   "source": [
    "n_mc = 100\n",
    "N = 200\n",
    "dt = 0.01\n",
    "p_err = 0.01\n",
    "xs_mc = []\n",
    "ys_mc = []\n",
    "ys_corrupted_mc = []\n",
    "key_obs, key_mc = jax.random.split(key_obs)\n",
    "for i in range(n_mc):\n",
    "    key_mc, subkey = jax.random.split(key_mc)  # 生成新的子随机数生成器\n",
    "    x0 = np.eye(D)[0]\n",
    "    u,v=x0[..., :nU],x0[..., nU:]\n",
    "    xs1 = jnp.zeros((N,) + x0.shape)\n",
    "    xs1 = xs1.at[0].set(x0)\n",
    "    if f_inacc:\n",
    "        fpart = partial(fC, D=D)\n",
    "    else:\n",
    "        fpart = partial(f, D=D)\n",
    "    xs1 = rk4(xs1, dt, N, fpart)\n",
    "    ys1 = xs1 + jax.random.normal(key_measurement, xs1.shape)\n",
    "    ys1_corrupted = ys1.copy()\n",
    "    if corrupted:\n",
    "        errs_map = jax.random.bernoulli(key_init, p=p_err, shape=ys1_corrupted.shape)\n",
    "        ys1_corrupted = ys1_corrupted * (~errs_map) + 100.0 * errs_map\n",
    "        err_where = np.where(errs_map)\n",
    "    xs_mc.append(xs1)\n",
    "    ys_mc.append(ys1)\n",
    "    ys_corrupted_mc.append(ys1_corrupted)\n",
    "statev = jnp.array(xs_mc)\n",
    "yv = jnp.array(ys_mc)\n",
    "yv_corrupted = jnp.array(ys_corrupted_mc)\n",
    "print(statev.shape)\n",
    "print(yv.shape)\n",
    "print(yv_corrupted.shape)"
   ]
  },
  {
   "cell_type": "code",
   "execution_count": null,
   "metadata": {},
   "outputs": [],
   "source": []
  },
  {
   "cell_type": "code",
   "execution_count": 8,
   "metadata": {},
   "outputs": [
    {
     "name": "stdout",
     "output_type": "stream",
     "text": [
      "(20000, 264) (20000, 264)\n"
     ]
    }
   ],
   "source": [
    "ys = yv.reshape(-1, D)\n",
    "ys_corrupted = yv_corrupted.reshape(-1, D)\n",
    "xs = statev.reshape(-1, D)\n",
    "print(xs.shape,ys.shape)"
   ]
  },
  {
   "cell_type": "code",
   "execution_count": 9,
   "metadata": {},
   "outputs": [
    {
     "name": "stdout",
     "output_type": "stream",
     "text": [
      "                 date       x_1       x_2       x_3       x_4       x_5  \\\n",
      "0 2024-06-22 13:00:00 -0.508842 -0.210080  0.165664 -0.781829  0.151676   \n",
      "1 2024-06-22 13:00:01  0.497520  2.089623  1.454283  0.150064  0.274227   \n",
      "2 2024-06-22 13:00:02 -0.431483  0.207251  0.291909 -0.617165  1.073409   \n",
      "3 2024-06-22 13:00:03  1.641699  1.697483  0.374305  0.683262 -0.283825   \n",
      "4 2024-06-22 13:00:04  3.825752  3.042590  0.009009 -0.853737  0.726204   \n",
      "\n",
      "        x_6       x_7       x_8       x_9  ...     x_255     x_256     x_257  \\\n",
      "0  0.282983 -0.211611  1.484356  0.351793  ...  1.475593  0.076225 -1.395732   \n",
      "1  1.860394 -0.778327  1.001215 -1.619408  ... -0.984250  0.725734  0.748291   \n",
      "2  1.405412 -0.633494  0.197610  0.832576  ... -0.200857  0.207517  1.013408   \n",
      "3 -1.340437  1.048515  0.441048  0.796797  ... -0.668731 -0.583319 -0.445682   \n",
      "4  1.359205  0.252431  0.579456 -1.066996  ...  0.745839 -0.612405  0.881337   \n",
      "\n",
      "      x_258     x_259     x_260     x_261     x_262     x_263     x_264  \n",
      "0  0.513074 -0.189168 -0.830125 -2.248583 -0.961440  0.791771 -0.389956  \n",
      "1  0.505827  0.827599 -0.229768  0.583801 -0.523620 -2.230191  1.472102  \n",
      "2 -0.158037 -0.135523 -0.887888 -0.355124  0.877686  0.589540  0.148747  \n",
      "3  0.307364  0.532084  0.582643 -0.773061 -1.250779  0.131424 -1.435071  \n",
      "4  0.950019  0.596957  0.973207  1.233621  1.433030  0.205271  0.288554  \n",
      "\n",
      "[5 rows x 265 columns]\n"
     ]
    }
   ],
   "source": [
    "# 生成时间序列\n",
    "start_time = datetime(2024, 6, 22, 13, 0, 0)\n",
    "time_interval = timedelta(seconds=1)\n",
    "time_series = [start_time + i * time_interval for i in range(xs.shape[0])]\n",
    "\n",
    "# 创建 DataFrame\n",
    "column_names = [f'x_{i}' for i in range(1, xs.shape[1] + 1)]\n",
    "df = pd.DataFrame(xs, columns=column_names)\n",
    "df.insert(0, 'date', time_series)\n",
    "\n",
    "print(df.head())"
   ]
  },
  {
   "cell_type": "code",
   "execution_count": null,
   "metadata": {},
   "outputs": [],
   "source": []
  },
  {
   "cell_type": "code",
   "execution_count": 10,
   "metadata": {},
   "outputs": [
    {
     "name": "stdout",
     "output_type": "stream",
     "text": [
      "                 date       y_1       y_2       y_3       y_4       y_5  \\\n",
      "0 2024-06-22 13:00:00  0.298052  0.136882 -2.437877 -0.532799  2.394890   \n",
      "1 2024-06-22 13:00:01  0.741885  2.168654  0.897008 -0.355968  0.097677   \n",
      "2 2024-06-22 13:00:02 -0.060917  2.127455  0.123571 -1.701928  0.373233   \n",
      "3 2024-06-22 13:00:03  0.137413  2.321258  0.567308  2.484061 -1.039487   \n",
      "4 2024-06-22 13:00:04  4.114027  4.554846  0.547699 -0.989031  1.660715   \n",
      "\n",
      "        y_6       y_7       y_8       y_9  ...     y_255     y_256     y_257  \\\n",
      "0  0.305981  0.591586  1.393537  0.514840  ...  2.847121  1.264062 -0.989506   \n",
      "1  2.379422 -2.312613  1.100919 -0.947449  ... -0.077087  0.715438  1.846685   \n",
      "2  1.640064 -1.177835 -1.130167  1.089051  ... -1.087193  1.008759  1.834841   \n",
      "3 -1.841616  0.704126  1.980245  0.658309  ... -2.665695 -1.934356 -0.648119   \n",
      "4  0.565213  0.241693  0.006319 -1.315167  ... -0.293478 -0.144189  0.515352   \n",
      "\n",
      "      y_258     y_259     y_260     y_261     y_262     y_263     y_264  \n",
      "0  1.590744  1.317074 -1.487431 -1.897094 -1.915570 -0.466334 -0.449217  \n",
      "1  0.386987  0.382845 -1.003550 -0.813795  0.736992 -2.587425  1.447260  \n",
      "2 -0.548851 -1.685405 -1.403144  1.040136  0.710953  1.333181 -0.444557  \n",
      "3 -0.812541  1.373018  2.695416  0.204522 -1.702656  0.760466 -1.006516  \n",
      "4  1.291627 -0.378031  1.498348  1.296291  0.885859 -0.727842  1.353083  \n",
      "\n",
      "[5 rows x 265 columns]\n"
     ]
    }
   ],
   "source": [
    "if save_flag:\n",
    "    # # 保存为 CSV 文件\n",
    "    csv_path = save_dir + model_name + '.csv'\n",
    "    df.to_csv(csv_path, index=False)\n",
    "    # 创建 DataFrame\n",
    "    column_names = [f'y_{i}' for i in range(1, ys.shape[1] + 1)]\n",
    "    dfy = pd.DataFrame(ys, columns=column_names)\n",
    "    dfy.insert(0, 'date', time_series)\n",
    "\n",
    "    print(dfy.head())\n",
    "    csv_path = save_dir + model_name + '_obs.csv'\n",
    "    dfy.to_csv(csv_path, index=False)\n",
    "\n",
    "    if corrupted:\n",
    "        column_names = [f'y_{i}' for i in range(1, ys_corrupted.shape[1] + 1)]\n",
    "        dfy = pd.DataFrame(ys_corrupted, columns=column_names)\n",
    "        dfy.insert(0, 'date', time_series)\n",
    "\n",
    "        print(dfy.head())\n",
    "        csv_path = save_dir + model_name + '_obs_corrupted.csv'\n",
    "        dfy.to_csv(csv_path, index=False)"
   ]
  },
  {
   "cell_type": "code",
   "execution_count": 11,
   "metadata": {},
   "outputs": [],
   "source": [
    "range_time = np.arange(N) * dt\n",
    "np.set_printoptions(precision=4)\n",
    "\n",
    "def callback_fn(particles, particles_pred, y, i):\n",
    "    return jnp.sqrt(jnp.power(particles.mean(axis=0) - xs[i], 2).mean()), particles.mean(axis=0)\n",
    "\n",
    "\n",
    "def f_step(x):\n",
    "    @jax.jit\n",
    "    def f_x(x, t):\n",
    "        return f(x)\n",
    "    return rk4_step(x, 1, dt, f_x)\n",
    "\n",
    "def h_step(x, _):\n",
    "    return x\n",
    "\n",
    "def obs_fn(x, key, i):\n",
    "    \"\"\"\n",
    "    Measurement function\n",
    "    \"\"\"\n",
    "    err = jax.random.normal(key, (D,))\n",
    "    return x + err\n",
    "\n",
    "def calculate_mse(errs):\n",
    "    return jnp.mean(jnp.square(errs))\n",
    "def calculate_mae(errs):\n",
    "    return jnp.mean(jnp.abs(errs))\n",
    "\n",
    "def calculate_rmse(errs):\n",
    "    return jnp.sqrt(jnp.mean(jnp.square(errs)))\n",
    "\n",
    "def calculate_test_error(errs):\n",
    "    mse = calculate_mse(errs)\n",
    "    mae = calculate_mae(errs)\n",
    "    rmse = calculate_rmse(errs) \n",
    "    print(f'mse:{mse}, mae:{mae}, rmse:{rmse}')\n",
    "    return mse, mae, rmse\n",
    "M = n_mc\n",
    "ff = f_step\n",
    "hh = h_step"
   ]
  },
  {
   "cell_type": "code",
   "execution_count": 12,
   "metadata": {},
   "outputs": [
    {
     "name": "stdout",
     "output_type": "stream",
     "text": [
      "(100, 200, 264)\n",
      "(100, 200, 264)\n",
      "(100, 200, 264)\n"
     ]
    }
   ],
   "source": [
    "print(statev.shape)\n",
    "print(yv.shape)\n",
    "print(yv_corrupted.shape)"
   ]
  },
  {
   "cell_type": "code",
   "execution_count": null,
   "metadata": {},
   "outputs": [
    {
     "name": "stdout",
     "output_type": "stream",
     "text": [
      "System lorenzUV\n",
      "corrupted False\n",
      "f_inacc False\n",
      "EKF\n"
     ]
    },
    {
     "name": "stderr",
     "output_type": "stream",
     "text": [
      "100%|██████████| 20/20 [19:02<00:00, 57.15s/it]\n"
     ]
    },
    {
     "name": "stdout",
     "output_type": "stream",
     "text": [
      "EnKF\n"
     ]
    },
    {
     "name": "stderr",
     "output_type": "stream",
     "text": [
      "100%|██████████| 20/20 [17:40<00:00, 53.00s/it]\n"
     ]
    },
    {
     "name": "stdout",
     "output_type": "stream",
     "text": [
      "EnKFI\n"
     ]
    },
    {
     "name": "stderr",
     "output_type": "stream",
     "text": [
      "100%|██████████| 20/20 [20:22<00:00, 61.14s/it]\n"
     ]
    },
    {
     "name": "stdout",
     "output_type": "stream",
     "text": [
      "HubEnKF\n"
     ]
    }
   ],
   "source": [
    "from filtering_methods import run_filtering\n",
    "print('System', model_name)\n",
    "print('corrupted', corrupted)\n",
    "print('f_inacc', f_inacc)\n",
    "methods = ['EKF', 'EnKF', 'EnKFI', 'HubEnKF', 'EnKFS', 'PF']\n",
    "# methods = ['PF']\n",
    "if corrupted:\n",
    "    yv_test = yv_corrupted[int(M * 0.8):]\n",
    "else:\n",
    "    yv_test = yv[int(M * 0.8):]\n",
    "statev_test = statev[int(M * 0.8):]\n",
    "parameter_range = (1, 20)\n",
    "_, _, _ = run_filtering(methods, yv_test, statev_test, key_eval, ff, hh, parameter_range, num_particle=1000)"
   ]
  }
 ],
 "metadata": {
  "kernelspec": {
   "display_name": "jax",
   "language": "python",
   "name": "python3"
  },
  "language_info": {
   "codemirror_mode": {
    "name": "ipython",
    "version": 3
   },
   "file_extension": ".py",
   "mimetype": "text/x-python",
   "name": "python",
   "nbconvert_exporter": "python",
   "pygments_lexer": "ipython3",
   "version": "3.10.15"
  }
 },
 "nbformat": 4,
 "nbformat_minor": 2
}
